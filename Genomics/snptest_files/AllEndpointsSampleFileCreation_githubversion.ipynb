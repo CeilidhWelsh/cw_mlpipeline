{
 "cells": [
  {
   "cell_type": "markdown",
   "metadata": {},
   "source": [
    "# Creating Sample File For Toxicity Endpoints "
   ]
  },
  {
   "cell_type": "code",
   "execution_count": null,
   "metadata": {},
   "outputs": [],
   "source": [
    "#import libraries and cohort csv files \n",
    "import pandas as pd\n",
    "import numpy as np \n",
    "pd.set_option('display.max_rows', 100)\n",
    "\n",
    "ad_ids_df = pd.read_csv('/Users/ceilidhwelsh/Documents/CambridgePhD/GWAS/ArtDecoResults/ART DECO-RAPPER IDs.csv')\n",
    "nim_ids_df = pd.read_csv('/Users/ceilidhwelsh/Documents/CambridgePhD/GWAS/NIMRADResults/NIMRAD IDs_May 5th 21.csv')\n",
    "ad_covariables_df = pd.read_csv('/Users/ceilidhwelsh/Documents/CambridgePhD/GWAS/ArtDecoResults/ADFinalEndpointValues.csv')\n",
    "nim_covariables_df = pd.read_csv('/Users/ceilidhwelsh/Documents/CambridgePhD/GWAS/NIMRADResults/NIMRADFinalEndpointValues.csv')\n",
    "voxtox_residuals = pd.read_csv('/Users/ceilidhwelsh/Documents/CambridgePhD/GWAS/VoxToxResults/FinalVoxToxEndpointValues.csv')\n",
    "genotyping_orders = pd.read_csv('/Users/ceilidhwelsh/Documents/CambridgePhD/GWAS/GeneticsFiles/PatientOrderGeneticsFiles.csv')\n",
    "genotypingorders2 = pd.read_csv(\"/Users/ceilidhwelsh/Documents/CambridgePhD/GWAS/NIMRADResults/chromosone10patientID's.csv\")"
   ]
  },
  {
   "cell_type": "code",
   "execution_count": null,
   "metadata": {},
   "outputs": [],
   "source": [
    "#Check to see if the patient ID and patient_ID order are the same for two independent chromosone txt files (10 & 22) \n",
    "test = genotyping_orders[genotyping_orders['RAP3300'].isin(genotypingorders2['SampleName'])]\n",
    "test"
   ]
  },
  {
   "cell_type": "markdown",
   "metadata": {},
   "source": [
    "## ARTDECO Cohort \n",
    "- for each patient in the AD cohort: \n",
    "    - convert trial identifier into RAPPER ID used in genotyping\n",
    "    - add variable to identify this cohort "
   ]
  },
  {
   "cell_type": "code",
   "execution_count": null,
   "metadata": {},
   "outputs": [],
   "source": [
    "# Drop and rename columns of the ARTDECO covariables \n",
    "ad_covariables_df.drop(['Unnamed: 0'], axis=1, inplace=True)\n",
    "ad_covariables_df.rename({'PATIENT_ID':'Trial Identifier'}, axis=1, inplace=True)"
   ]
  },
  {
   "cell_type": "code",
   "execution_count": null,
   "metadata": {},
   "outputs": [],
   "source": [
    "ad_covariables_df"
   ]
  },
  {
   "cell_type": "code",
   "execution_count": null,
   "metadata": {},
   "outputs": [],
   "source": [
    "# merge covariables df with the RAPPER ID's for ARTDECO patient \n",
    "# replace and NaN values in the RAPPER No. Column \n",
    "final_AD_residuals = pd.merge(ad_covariables_df, ad_ids_df, how='outer', on=['Trial Identifier'])\n",
    "final_AD_residuals = final_AD_residuals.replace(np.nan,'NAN')\n",
    "final_AD_residuals"
   ]
  },
  {
   "cell_type": "code",
   "execution_count": null,
   "metadata": {},
   "outputs": [],
   "source": [
    "final_AD_residuals.columns"
   ]
  },
  {
   "cell_type": "code",
   "execution_count": null,
   "metadata": {},
   "outputs": [],
   "source": [
    "# Reformat the RAPPEr IDs \n",
    "# Remove the placeholder 0 after RAP in the RAPPER ID's \n",
    "\n",
    "def fix_ad_ids(rapperids):\n",
    "    rapperids = list(rapperids)\n",
    "\n",
    "    if rapperids[0] =='N':\n",
    "        new_id = np.nan\n",
    "    elif rapperids[3] == '0':\n",
    "        new_id = rapperids[0]+rapperids[1]+rapperids[2]+rapperids[4]+rapperids[5]+rapperids[6]+rapperids[7]\n",
    "\n",
    "    else: \n",
    "        new_id = rapperids[0]+rapperids[1]+rapperids[2]+rapperids[3]+rapperids[4]+rapperids[5]+rapperids[6]+rapperids[7]\n",
    "\n",
    "    return new_id\n",
    "\n",
    "final_AD_residuals['PATIENT_ID'] = final_AD_residuals.apply(lambda x: fix_ad_ids(x['RAPPER      No. ']), axis=1)"
   ]
  },
  {
   "cell_type": "code",
   "execution_count": null,
   "metadata": {},
   "outputs": [],
   "source": [
    "final_AD_residuals"
   ]
  },
  {
   "cell_type": "code",
   "execution_count": null,
   "metadata": {},
   "outputs": [],
   "source": [
    "# Reorder variables in the dataframe and add covariable for each trial (center)\n",
    "final_AD_residuals = final_AD_residuals[['PATIENT_ID','STAT_SCORE','DYS_AUC','XERO_AUC','MUCO_AUC', 'Trial Identifier']].copy()\n",
    "final_AD_residuals['center'] = 2\n",
    "final_AD_residuals"
   ]
  },
  {
   "cell_type": "markdown",
   "metadata": {},
   "source": [
    "## NIMRAD Cohort \n",
    "- for each patient in the NIMRAD cohort: \n",
    "    - adjust the trial identifier into RAPPER ID used in genotyping\n",
    "    - add variable to identify this cohort \n"
   ]
  },
  {
   "cell_type": "code",
   "execution_count": null,
   "metadata": {},
   "outputs": [],
   "source": [
    "# Create function to edit the NIMRAD Trial ID to match the IDs in the covariables spreadsheet \n",
    "\n",
    "def edit_trial_id(trial_id):\n",
    "    trial_id = list(trial_id)\n",
    "    \n",
    "    if trial_id[0] == '0':\n",
    "        new_id = trial_id[1]+trial_id[3]+trial_id[4]+trial_id[5]\n",
    "        new_id = int(new_id)\n",
    "    else:\n",
    "        new_id = trial_id[0]+trial_id[1]+trial_id[3]+trial_id[4]+trial_id[5]\n",
    "        new_id = int(new_id)\n",
    "    return new_id\n",
    "\n",
    "nim_ids_df['new_id'] = nim_ids_df.apply(lambda x: edit_trial_id(x['Trial ID']), axis=1)\n",
    "nim_ids_df"
   ]
  },
  {
   "cell_type": "code",
   "execution_count": null,
   "metadata": {},
   "outputs": [],
   "source": [
    "nim_covariables_df"
   ]
  },
  {
   "cell_type": "code",
   "execution_count": null,
   "metadata": {},
   "outputs": [],
   "source": [
    "#Rename and drop columns \n",
    "nim_covariables_df.drop(['Unnamed: 0'], axis=1, inplace=True)\n",
    "nim_covariables_df.rename({'PATIENT_ID':'new_id'}, axis=1, inplace=True)"
   ]
  },
  {
   "cell_type": "code",
   "execution_count": null,
   "metadata": {},
   "outputs": [],
   "source": [
    "#Create a new dataframe that includes the patient ID's and their residuals \n",
    "final_NIM_residuals = pd.merge(nim_covariables_df, nim_ids_df, how='outer', on=['new_id'])"
   ]
  },
  {
   "cell_type": "code",
   "execution_count": null,
   "metadata": {},
   "outputs": [],
   "source": [
    "final_NIM_residuals"
   ]
  },
  {
   "cell_type": "code",
   "execution_count": null,
   "metadata": {},
   "outputs": [],
   "source": [
    "#Reorder the dataframe and add a center covariable\n",
    "#final_NIM_residuals.drop(['Trial ID'], axis=1, inplace=True)\n",
    "final_NIM_residuals['center'] = 3\n",
    "final_NIM_residuals = final_NIM_residuals[['Sample ID','STAT_SCORE','DYS_AUC',\n",
    "                                           'XERO_AUC','MUCO_AUC','new_id','center']]\n",
    "final_NIM_residuals"
   ]
  },
  {
   "cell_type": "code",
   "execution_count": null,
   "metadata": {},
   "outputs": [],
   "source": [
    "final_AD_residuals.rename({'RAPPER      No. ': 'PATIENT_ID'}, axis=1, inplace=True)\n",
    "final_NIM_residuals.rename({'Sample ID': 'PATIENT_ID', 'new_id':'Trial Identifier'}, axis=1, inplace=True)"
   ]
  },
  {
   "cell_type": "code",
   "execution_count": null,
   "metadata": {},
   "outputs": [],
   "source": [
    "final_AD_residuals"
   ]
  },
  {
   "cell_type": "code",
   "execution_count": null,
   "metadata": {},
   "outputs": [],
   "source": [
    "final_AD_residuals = final_AD_residuals.drop_duplicates(subset=['Trial Identifier'])\n",
    "final_AD_residuals"
   ]
  },
  {
   "cell_type": "code",
   "execution_count": null,
   "metadata": {},
   "outputs": [],
   "source": [
    "final_NIM_residuals"
   ]
  },
  {
   "cell_type": "code",
   "execution_count": null,
   "metadata": {},
   "outputs": [],
   "source": [
    "NIM_AD_df = pd.concat([final_AD_residuals, final_NIM_residuals], axis=0)"
   ]
  },
  {
   "cell_type": "code",
   "execution_count": null,
   "metadata": {},
   "outputs": [],
   "source": [
    "NIM_AD_df.to_csv('checkNIMandAD.csv')"
   ]
  },
  {
   "cell_type": "code",
   "execution_count": null,
   "metadata": {},
   "outputs": [],
   "source": [
    "NIM_AD_df.dropna()"
   ]
  },
  {
   "cell_type": "markdown",
   "metadata": {},
   "source": [
    "## VoxTox Patients with RAPPER IDs\n",
    "- for each patient in the VoxTox cohort: \n",
    "    - convert trial identifier into RAPPER ID used in genotyping, and reformat by removing placeholder 0 \n",
    "    - add variable to identify this cohort "
   ]
  },
  {
   "cell_type": "code",
   "execution_count": null,
   "metadata": {},
   "outputs": [],
   "source": [
    "#Drop columns, reorder dataframe, rename appropriate columns, and add center covariables\n",
    "voxtox_residuals.drop(['Unnamed: 0'], axis=1, inplace=True)\n",
    "voxtox_residuals = voxtox_residuals[['RAPPER_ID', 'STAT_SCORE', 'DYS_AUC', 'XERO_AUC',\n",
    "                                    'MUCO_AUC', 'PATIENT_ID']]\n",
    "#voxtox_residuals['center'] = 1"
   ]
  },
  {
   "cell_type": "code",
   "execution_count": null,
   "metadata": {},
   "outputs": [],
   "source": [
    "# Rename patient identifier columns to match with NIMRAD and AD for merging \n",
    "voxtox_residuals.rename({'PATIENT_ID':'Trial Identifier', 'RAPPER_ID':'PATIENT_ID'},axis=1, inplace=True)\n",
    "voxtox_residuals"
   ]
  },
  {
   "cell_type": "code",
   "execution_count": null,
   "metadata": {},
   "outputs": [],
   "source": [
    "# Convert the voxtox rapper ID to the correct format by removing the placeholder 0\n",
    "\n",
    "def convert_voxtox_rap(patient_id):\n",
    "    patient_id = list(patient_id)\n",
    "    \n",
    "    if patient_id[3] =='0':\n",
    "        new_id = patient_id[0]+patient_id[1]+patient_id[2]+patient_id[4]+patient_id[5]+patient_id[6]+patient_id[7]\n",
    "    print(new_id)\n",
    "    \n",
    "    return new_id\n",
    "\n",
    "voxtox_residuals['new_id'] = voxtox_residuals.apply(lambda x: convert_voxtox_rap(x['PATIENT_ID']), axis=1)"
   ]
  },
  {
   "cell_type": "code",
   "execution_count": null,
   "metadata": {},
   "outputs": [],
   "source": [
    "voxtox_residuals['PATIENT_ID'] = voxtox_residuals['new_id']"
   ]
  },
  {
   "cell_type": "code",
   "execution_count": null,
   "metadata": {},
   "outputs": [],
   "source": [
    "voxtox_residuals.drop(['new_id'], axis=1, inplace=True)"
   ]
  },
  {
   "cell_type": "code",
   "execution_count": null,
   "metadata": {},
   "outputs": [],
   "source": [
    "# Add center variable for VoxTox patients \n",
    "voxtox_residuals['center'] = 1.0\n",
    "voxtox_residuals"
   ]
  },
  {
   "cell_type": "code",
   "execution_count": null,
   "metadata": {
    "scrolled": true
   },
   "outputs": [],
   "source": [
    "# Create final dataframe by merging patients from all three trial dfs \n",
    "all_patients_residuals_df = pd.concat([voxtox_residuals, NIM_AD_df], axis=0)\n",
    "all_patients_residuals_df"
   ]
  },
  {
   "cell_type": "code",
   "execution_count": null,
   "metadata": {},
   "outputs": [],
   "source": [
    "# Rename columns in the genotyping files\n",
    "genotyping_orders.rename({'RAP3300':'PATIENT_ID'},axis=1, inplace=True)\n",
    "genotypingorders2.rename({'SampleName':'PATIENT_ID'}, axis=1, inplace=True)\n",
    "\n",
    "# Check which patients are in the genotyping file and only keep those patients \n",
    "all_patients_residuals_df = (all_patients_residuals_df[all_patients_residuals_df['PATIENT_ID'].isin(genotypingorders2['PATIENT_ID'])])\n",
    "all_patients_residuals_df"
   ]
  },
  {
   "cell_type": "code",
   "execution_count": null,
   "metadata": {},
   "outputs": [],
   "source": [
    "#Merge the order of the genetic patients with only the patients in the genotyping file \n",
    "ordered_df = pd.merge(genotypingorders2, all_patients_residuals_df, how='outer', on=['PATIENT_ID'])\n",
    "ordered_df"
   ]
  },
  {
   "cell_type": "code",
   "execution_count": null,
   "metadata": {},
   "outputs": [],
   "source": [
    "ordered_df.drop(['Unnamed: 1'], axis=1, inplace=True)"
   ]
  },
  {
   "cell_type": "code",
   "execution_count": null,
   "metadata": {},
   "outputs": [],
   "source": [
    "ordered_df"
   ]
  },
  {
   "cell_type": "code",
   "execution_count": null,
   "metadata": {},
   "outputs": [],
   "source": [
    "#ordered_df.to_csv('patientsingeneticsorder.csv')"
   ]
  },
  {
   "cell_type": "markdown",
   "metadata": {},
   "source": [
    "## Add the Principle Components \n",
    "- The principle components adjust for population substructure and are included in the final analysis \n",
    "- Add the PC's for each patient identifier for all three trials \n",
    "- Also add the CEU column from genotyping "
   ]
  },
  {
   "cell_type": "code",
   "execution_count": null,
   "metadata": {},
   "outputs": [],
   "source": [
    "onc_ids_df = pd.read_csv('/Users/ceilidhwelsh/Documents/CambridgePhD/GWAS/GeneticsFiles/GenotypingIDs.csv')\n",
    "eth_df = pd.read_csv('/Users/ceilidhwelsh/Documents/CambridgePhD/GWAS/GeneticsFiles/ethnicities.csv')\n",
    "pc_df = pd.read_csv('/Users/ceilidhwelsh/Documents/CambridgePhD/GWAS/GeneticsFiles/rapper_nimrad_euro_pcs_withIDs.csv')"
   ]
  },
  {
   "cell_type": "code",
   "execution_count": null,
   "metadata": {},
   "outputs": [],
   "source": [
    "eth_df.rename({'Onc_ID': 'Sample_id'}, axis=1, inplace=True)\n",
    "eur_eth_df = eth_df[['Sample_id', 'CEU']].copy()\n",
    "eur_eth_df"
   ]
  },
  {
   "cell_type": "code",
   "execution_count": null,
   "metadata": {},
   "outputs": [],
   "source": [
    "pc_df['Sample_id'] = pc_df['Sample_id'].astype(str)\n",
    "pc_df"
   ]
  },
  {
   "cell_type": "code",
   "execution_count": null,
   "metadata": {},
   "outputs": [],
   "source": [
    "pc_df = pd.merge(pc_df ,eur_eth_df , how='outer', on=['Sample_id'])\n",
    "pc_df"
   ]
  },
  {
   "cell_type": "code",
   "execution_count": null,
   "metadata": {},
   "outputs": [],
   "source": [
    "pc_df = pc_df[pc_df['SampleName'].isin(ordered_df['PATIENT_ID'])].copy()"
   ]
  },
  {
   "cell_type": "code",
   "execution_count": null,
   "metadata": {},
   "outputs": [],
   "source": [
    "pc_df"
   ]
  },
  {
   "cell_type": "code",
   "execution_count": null,
   "metadata": {},
   "outputs": [],
   "source": [
    "pc_df.columns"
   ]
  },
  {
   "cell_type": "code",
   "execution_count": null,
   "metadata": {},
   "outputs": [],
   "source": [
    "pc_df.drop(['Sample_id', 'Subject_id', 'Missing', 'Gender', 'Consortium', 'SampleWell', 'SamplePlate',\n",
    "           'pc11', 'pc12', 'pc13', 'pc14', 'pc15'], axis=1, inplace=True)"
   ]
  },
  {
   "cell_type": "code",
   "execution_count": null,
   "metadata": {},
   "outputs": [],
   "source": [
    "pc_df.rename({'SampleName':'PATIENT_ID'}, axis=1, inplace=True)"
   ]
  },
  {
   "cell_type": "code",
   "execution_count": null,
   "metadata": {},
   "outputs": [],
   "source": [
    "pc_df"
   ]
  },
  {
   "cell_type": "code",
   "execution_count": null,
   "metadata": {},
   "outputs": [],
   "source": [
    "inc_pc_df = pd.merge(ordered_df, pc_df, how='outer', on=['PATIENT_ID'])"
   ]
  },
  {
   "cell_type": "code",
   "execution_count": null,
   "metadata": {},
   "outputs": [],
   "source": [
    "inc_pc_df = inc_pc_df.replace('NAN', np.nan)"
   ]
  },
  {
   "cell_type": "code",
   "execution_count": null,
   "metadata": {},
   "outputs": [],
   "source": [
    "inc_pc_df"
   ]
  },
  {
   "cell_type": "markdown",
   "metadata": {},
   "source": [
    "## Check Ethnicity >80% European for this H&N GWAS \n",
    "- for this GWAS study only patients with >80% Eurpoean ancestry are included to stop population substructure \n",
    "- use the CEU variable to exclude any patients <0.8 \n",
    "- replace these rows "
   ]
  },
  {
   "cell_type": "code",
   "execution_count": null,
   "metadata": {},
   "outputs": [],
   "source": [
    "inc_pc_df.set_index('PATIENT_ID', inplace=True, drop=True)\n",
    "inc_pc_df.loc[inc_pc_df['CEU'] < 0.8] = np.nan"
   ]
  },
  {
   "cell_type": "code",
   "execution_count": null,
   "metadata": {},
   "outputs": [],
   "source": [
    "inc_pc_df"
   ]
  },
  {
   "cell_type": "code",
   "execution_count": null,
   "metadata": {},
   "outputs": [],
   "source": [
    "inc_pc_df.reset_index(inplace=True)"
   ]
  },
  {
   "cell_type": "code",
   "execution_count": null,
   "metadata": {},
   "outputs": [],
   "source": [
    "inc_pc_df"
   ]
  },
  {
   "cell_type": "code",
   "execution_count": null,
   "metadata": {},
   "outputs": [],
   "source": [
    "inc_pc_df.dropna()"
   ]
  },
  {
   "cell_type": "markdown",
   "metadata": {},
   "source": [
    "## Create Final Sample File \n",
    "- Remove Identifiers (for github) \n",
    "- include all four endpoints, PCs, center variable "
   ]
  },
  {
   "cell_type": "code",
   "execution_count": null,
   "metadata": {},
   "outputs": [],
   "source": [
    "inc_pc_df.fillna(\"NA\", inplace=True)\n",
    "inc_pc_df.rename({'PATIENT_ID':'ID_1'}, axis=1, inplace=True)\n",
    "inc_pc_df['ID_2'] = inc_pc_df['ID_1']\n",
    "inc_pc_df['missing'] = 0"
   ]
  },
  {
   "cell_type": "code",
   "execution_count": null,
   "metadata": {},
   "outputs": [],
   "source": [
    "inc_pc_df = inc_pc_df.drop(['ID_1', 'ID_2', 'Trial Identifier'], axis=1)\n",
    "inc_pc_df.to_csv('/Users/ceilidhwelsh/Documents/CambridgePhD/GWAS/GeneticsFiles/FinalSampleFiles/ExampleEndpointSampleFile.csv')\n",
    "inc_pc_df"
   ]
  },
  {
   "cell_type": "markdown",
   "metadata": {},
   "source": [
    "## For Final Sample File in SNPTEST\n",
    "- include an initial row that tells you the variable type\n",
    "- include the patient identifier to align with the patient identifiers in the genotyping .txt file \n",
    "- split into four independent dfs and save to csv files for each endpoints (STAT, dysphagia, mucositis, xerostomia)"
   ]
  },
  {
   "cell_type": "code",
   "execution_count": null,
   "metadata": {},
   "outputs": [],
   "source": [
    "#Insert row at the top of the df (not column header) to indicate variable type \n",
    "\n",
    "def Insert_row_(row_number, df, row_value):\n",
    "    # Slice the upper half of the dataframe\n",
    "    df1 = df[0:row_number]\n",
    "   \n",
    "    # Store the result of lower half of the dataframe\n",
    "    df2 = df[row_number:]\n",
    "   \n",
    "    # Inser the row in the upper half dataframe\n",
    "    df1.loc[row_number]=row_value\n",
    "   \n",
    "    # Concat the two dataframes\n",
    "    df_result = pd.concat([df1, df2])\n",
    "   \n",
    "    # Reassign the index labels\n",
    "    df_result.index = [*range(df_result.shape[0])]\n",
    "   \n",
    "    # Return the updated dataframe\n",
    "    return df_result\n",
    "\n",
    "\n",
    "row_number = 0\n",
    "row_value = ['0', 'P', 'P', 'P', 'P', 'D', 'D','D', 'C', 'C', 'C', 'C', 'C', 'C', 'C', 'C', 'C', 'C', 'C', '0', '0']\n",
    "  \n",
    "if row_number > inc_pc_df.index.max()+1:\n",
    "    print(\"Invalid row_number\")\n",
    "else:\n",
    "  \n",
    "    # Let's call the function and insert the row\n",
    "    # at the second position\n",
    "    inc_pc_df = Insert_row_(0, inc_pc_df, row_value)\n",
    "  \n",
    "    # Print the updated dataframe\n",
    "inc_pc_df"
   ]
  },
  {
   "cell_type": "code",
   "execution_count": null,
   "metadata": {},
   "outputs": [],
   "source": [
    "statscore_sample_df = inc_pc_df[['ID_1', 'ID_2', 'missing','STAT_SCORE','center', 'pc1', 'pc2', 'pc3',\n",
    "       'pc4', 'pc5', 'pc6', 'pc7', 'pc8', 'pc9', 'pc10']]\n",
    "dys_endpoint_sample_df = inc_pc_df[['ID_1', 'ID_2', 'missing','DYS_AUC', 'center', 'pc1', 'pc2', 'pc3',\n",
    "       'pc4', 'pc5', 'pc6', 'pc7', 'pc8', 'pc9', 'pc10']]\n",
    "xero_endpoint_sample_df = inc_pc_df[['ID_1', 'ID_2', 'missing','XERO_AUC','center', 'pc1', 'pc2', 'pc3',\n",
    "       'pc4', 'pc5', 'pc6', 'pc7', 'pc8', 'pc9', 'pc10']]\n",
    "muco_endpoint_sample_df = inc_pc_df[['ID_1', 'ID_2', 'missing','MUCO_AUC','center', 'pc1', 'pc2', 'pc3',\n",
    "       'pc4', 'pc5', 'pc6', 'pc7', 'pc8', 'pc9', 'pc10']]"
   ]
  },
  {
   "cell_type": "code",
   "execution_count": null,
   "metadata": {},
   "outputs": [],
   "source": [
    "statscore_sample_df.to_csv(\"/Users/ceilidhwelsh/Documents/CambridgePhD/GWAS/Final/SampleFiles/endpointstatacutephenotypes.sample\", sep=' ', index=False)"
   ]
  },
  {
   "cell_type": "code",
   "execution_count": null,
   "metadata": {},
   "outputs": [],
   "source": [
    "dys_endpoint_sample_df.to_csv(\"/Users/ceilidhwelsh/Documents/CambridgePhD/GWAS/Final/SampleFiles/endpointdysphagiaphenotypes.sample\", sep=' ', index=False)\n",
    "xero_endpoint_sample_df.to_csv(\"/Users/ceilidhwelsh/Documents/CambridgePhD/GWAS/Final/SampleFiles/endpointxerostomiaphenotypes.sample\", sep=' ', index=False)\n",
    "muco_endpoint_sample_df.to_csv(\"/Users/ceilidhwelsh/Documents/CambridgePhD/GWAS/Final/SampleFiles/endpointmucositisphenotypes.sample\", sep=' ', index=False)"
   ]
  }
 ],
 "metadata": {
  "kernelspec": {
   "display_name": "Python 3",
   "language": "python",
   "name": "python3"
  },
  "language_info": {
   "codemirror_mode": {
    "name": "ipython",
    "version": 3
   },
   "file_extension": ".py",
   "mimetype": "text/x-python",
   "name": "python",
   "nbconvert_exporter": "python",
   "pygments_lexer": "ipython3",
   "version": "3.8.5"
  }
 },
 "nbformat": 4,
 "nbformat_minor": 4
}
