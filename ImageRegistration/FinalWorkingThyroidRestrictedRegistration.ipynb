{
 "cells": [
  {
   "cell_type": "markdown",
   "metadata": {},
   "source": [
    "# Full Image Registration\n",
    "\n",
    "### Spatial Mapping of Structure sets and Dose Extraction\n",
    "- This notebook contains the code that performs and image registration on a planning and recurrence scan \n",
    "- it then finds the associated structures of interest and determines their spatial location \n",
    "- the original images are restricted to the spatial domain of the structure set of interest \n",
    "- deformable image registration is then applied to the cropped images \n",
    "- some code is then used to mask the transformed structure sets and extract the planning dose from within them "
   ]
  },
  {
   "cell_type": "code",
   "execution_count": null,
   "metadata": {},
   "outputs": [],
   "source": [
    "#import all libraries \n",
    "import os  \n",
    "import shutil\n",
    "import subprocess\n",
    "import sys\n",
    "import numpy\n",
    "import fileinput\n",
    "import re\n",
    "import fnmatch\n",
    "import shapely\n",
    "import nibabel\n",
    "import voxtox\n",
    "import voxtox.image\n",
    "import voxtox.utility\n",
    "import time \n",
    "\n",
    "\n",
    "\n",
    "from shapely import geometry\n",
    "from voxtox.rtstruct import getStructDoseDict\n",
    "from voxtox.utility import getStructDict, pointIjkToXyz, getDatedObject\n",
    "from quickviewer import QuickViewer\n",
    "from quickviewer.viewer import write_translation_to_file\n",
    "from thyroid_functions import *"
   ]
  },
  {
   "cell_type": "code",
   "execution_count": null,
   "metadata": {},
   "outputs": [],
   "source": [
    "#set up all path names \n",
    "work_dir = os.path.join(os.getcwd(), 'tmp')\n",
    "if not os.path.isdir(work_dir):\n",
    "        os.makedirs(work_dir)\n",
    "\n",
    "fixed_image='planning'\n",
    "moving_image='relapse'\n",
    "data_type = 'voxtox'\n",
    "id_list = ['VT1_H_E09B41K1', 'VT1_H_5C3561K1', 'VT1_H_169B43K1', 'VT1_H_0326E2K1', 'VT1_H_F6A233K1']\n",
    "patient_id = 'VT1_H_F6A233K1'\n",
    "data_dir = '/Users/ceilidhwelsh/Documents/CambridgePhD/VoxtoxData/Relapse_Data/relapse'\n",
    "patient_dir = f'{work_dir}/{patient_id}'\n",
    "if not os.path.isdir(patient_dir):\n",
    "        os.makedirs(patient_dir)\n",
    "patient_path = f'{data_dir}/{patient_id}'\n",
    "patient = voxtox.utility.Patient(patient_path)\n",
    "\n",
    "roi_dict = {}\n",
    "roi_dict[\"Thyroid\"] = [\"thyroid cartilage\", \"thyroid\", \"thyroid_cartilage\", \"Thyroid_cartilage_IG\", \\\n",
    "                       \"Thyroid cartilage IG\", \"thyroid_cartilage_IG\", \"thyroid_cartilage\", \\\n",
    "                       \"thyroid_cartilage_IG\", \"thyroid_cartliage\", \"thyroid cartilage\", \"thyroid cartilage IG\",\n",
    "                       \"thyroid cartliage\"]   \n",
    "\n",
    "#roi_dict[\"LR\"] = [\"GCB_recurrence_LN\", \"Recurrence_Outline\", \\\n",
    "#                    \"Recurrence_GCB\", \"L_nodal_rec\", \"LR_GCB\", \"Recurrence Outline\",\n",
    "#                   \"L nodal rec\", \"GCB recurrence_LN\", \"LR GCB\", \"Recurrence GCB\", \"L nodal_rec\"]\n",
    "\n",
    "#roi_dict[\"GTV\"] = [\"GTV\", 'gvt', 'gtv', 'gvt65sjj']\n",
    "        \n",
    "studies = {}\n",
    "ct = {}\n",
    "nii_paths = {}\n",
    "for case in [fixed_image, moving_image]:\n",
    "    studies[case], ct[case] = get_ct_and_study(patient, case, data_type)\n",
    "    nii_paths[case] = f'{patient_dir}/ct_{case}.nii'\n",
    "    convert_dcm_to_nii(ct[case].path, nii_paths[case])\n",
    "planning_scan = ct[\"planning\"]"
   ]
  },
  {
   "cell_type": "code",
   "execution_count": null,
   "metadata": {},
   "outputs": [],
   "source": [
    "roi_dict"
   ]
  },
  {
   "cell_type": "code",
   "execution_count": null,
   "metadata": {},
   "outputs": [],
   "source": [
    "nii_fixed = nii_paths[fixed_image] \n",
    "nii_moving =  nii_paths[moving_image]\n",
    "QuickViewer([nii_fixed, nii_moving])"
   ]
  },
  {
   "cell_type": "code",
   "execution_count": null,
   "metadata": {},
   "outputs": [],
   "source": [
    "#functions for executing the elastix/transformix transformations\n",
    "def apply_deformable_transform(fixed, moving, registration_dir=\"\", parameter_file=\"\", \n",
    "                               translation_file=\"\", translation=False):\n",
    "    \n",
    "    if not os.path.isdir(registration_dir):\n",
    "        os.makedirs(registration_dir)\n",
    "    \n",
    "    print(\"This is the parameter file in the function\", parameter_file)\n",
    "    cmd = ['elastix']\n",
    "    cmd.extend(['-f', fixed])\n",
    "    cmd.extend(['-m', moving])\n",
    "    cmd.extend(['-out', f'{registration_dir}'])\n",
    "    cmd.extend(['-p', f'{parameter_file}'])\n",
    "    if translation:\n",
    "        cmd.extend(['-t0', f'{translation_file}'])\n",
    "        #mask_filenames = create_masks(translation_file=translation_file,\n",
    "                                     #registration_dir=registration_dir)\n",
    "        #cmd.extend(['-fMask', f'{mask_filenames[fixed_image]}'])\n",
    "        #cmd.extend(['-mMask', f'{mask_filenames[moving_image]}'])\n",
    "    print(\"> Final cmd call is: \\n\", cmd)\n",
    "    subprocess.call(cmd)\n",
    "    \n",
    "    \n",
    "    \n",
    "    \n",
    "def apply_rigid_transform(to_transform=\"\", transformed_output_dir=\"\",\n",
    "                          transform_file=\"\", transform_type='in'):\n",
    "    print(transform_type)\n",
    "    if not os.path.isdir(transformed_output_dir):\n",
    "        os.makedirs(transformed_output_dir)\n",
    "\n",
    "    cmd = f'transformix {transform_type} {to_transform} -out {transformed_output_dir} -tp {transform_file}'\n",
    "    subprocess.run(cmd.split())\n",
    "    \n",
    "    if transform_type == '-def':\n",
    "        transformed_file = f\"{transformed_output_dir}/outputpoints.txt\"\n",
    "    else:\n",
    "        transformed_file = f\"{transformed_output_dir}/result.nii\"\n",
    "    \n",
    "    print(\"> Final cmd call is:\", cmd)\n",
    "    \n",
    "    return transformed_file\n",
    "    \n",
    "\n",
    "    \n",
    "def create_masks(translation_file=\"\", registration_dir=\"\"):\n",
    "    # Get z translation\n",
    "    translation_vars = get_file_variables(translation_file)\n",
    "    shift_z = -translation_vars['TransformParameters'][2]\n",
    "\n",
    "    # Create masks\n",
    "    image_fixed = nibabel.load(nii_paths[fixed_image])\n",
    "    image_moving = nibabel.load(nii_paths[moving_image])\n",
    "    masks = {}\n",
    "    masks[fixed_image], masks[moving_image] = voxtox.image.create3DMasks(\n",
    "        image_fixed, image_moving, shift_z=shift_z, dxy=50)\n",
    "    mask_filenames = {}\n",
    "    for case, mask in masks.items():\n",
    "        mask_filenames[case] = f'{registration_dir}/mask_{case}.nii'\n",
    "        mask.to_filename(mask_filenames[case])\n",
    "    \n",
    "    return mask_filenames\n",
    "    \n",
    "    \n",
    "#function for replacing key words in transform files \n",
    "def replace_keywords(out_dir =\"\", \n",
    "                    search_keyword=\"\", \n",
    "                    replace_keyword=\"\"):\n",
    "    for line in fileinput.input(out_dir, inplace=1):\n",
    "        line = line.replace(search_keyword, replace_keyword)\n",
    "        sys.stdout.write(line)\n",
    "    \n",
    "    \n",
    "# Define the limits of the structure in the structure file \n",
    "def structure_bounds(input_image):\n",
    "    x_struct = []\n",
    "    y_struct = []\n",
    "    z_struct = []\n",
    "    \n",
    "    struct_bounds = nibabel.load(input_image).get_fdata()\n",
    "    for xid in range(struct_bounds.shape[0]):\n",
    "        for i in struct_bounds[xid,:,:]:\n",
    "            if numpy.any(i>0):\n",
    "                x_struct.append(xid)\n",
    "    x_shift = numpy.median(x_struct)\n",
    "    x_struct = [min(x_struct), max(x_struct)]\n",
    "\n",
    "    for yid in range(struct_bounds.shape[1]):\n",
    "        for i in struct_bounds[:,yid,:]:\n",
    "            if numpy.any(i>0):\n",
    "                y_struct.append(yid)\n",
    "    y_shift = numpy.median(y_struct)\n",
    "    y_struct = [min(y_struct), max(y_struct)]\n",
    "\n",
    "    for zid in range(struct_bounds.shape[2]):\n",
    "        for i in struct_bounds[:,:,zid]:\n",
    "            if numpy.any(i>0):\n",
    "                z_struct.append(zid)\n",
    "    z_shift = numpy.median(z_struct)\n",
    "    z_struct = [min(z_struct), max(z_struct)]\n",
    "    complete_struct_bounds = (x_struct, y_struct, z_struct)\n",
    "    complete_shift = (x_shift, y_shift, z_shift)\n",
    "    \n",
    "    return complete_struct_bounds, complete_shift\n",
    "\n",
    "\n",
    "\n",
    "# Find combination of the planning and relapse structure bounds to cover the coordinate space \n",
    "# of both thyroid outlines \n",
    "def adjust_structure_bounds(planning_struct_bounds, relapse_struct_bounds):\n",
    "    \"\"\"for the planning and relapse structure bounds find the minimum and maximum\n",
    "    of the two coordinates in x and y. Return as the final structure bounds\"\"\"\n",
    "    if planning_struct_bounds[0][0] <= relapse_struct_bounds[0][0]:\n",
    "        x_struct = [planning_struct_bounds[0][0]]\n",
    "    else:\n",
    "        x_struct = [relapse_struct_bounds[0][0]]\n",
    "    x_struct[0] = x_struct[0]\n",
    "        \n",
    "    if planning_struct_bounds[0][1] <= relapse_struct_bounds[0][1]:\n",
    "        x_struct.append(relapse_struct_bounds[0][1])\n",
    "    else:\n",
    "        x_struct.append(planning_struct_bounds[0][1])\n",
    "    x_struct[1] = x_struct[1]\n",
    "    \n",
    "    if planning_struct_bounds[1][0] <= relapse_struct_bounds[1][0]:\n",
    "        y_struct = [planning_struct_bounds[1][0]]\n",
    "    else:\n",
    "        y_struct = [relapse_struct_bounds[1][0]]\n",
    "    y_struct[0] = y_struct[0]\n",
    "        \n",
    "    if planning_struct_bounds[1][1] <= relapse_struct_bounds[1][1]:\n",
    "        y_struct.append(relapse_struct_bounds[1][1])\n",
    "    else:\n",
    "        y_struct.append(planning_struct_bounds[1][1])\n",
    "    y_struct[1] = y_struct[1]\n",
    "        \n",
    "    applied_struct_bounds = (x_struct, y_struct)\n",
    "    \n",
    "    return applied_struct_bounds\n",
    "\n",
    "\n",
    "\n",
    "# Function to create the new image from the structure limits \n",
    "def create_bounded_image(original_image_path, structure_bounds=(), \n",
    "                        saved_image_path = \"\"):\n",
    "    \"\"\"pass the image to be bound and the associated structure bounds\"\"\"\n",
    "\n",
    "    image_array = nibabel.load(original_image_path).get_fdata()\n",
    "    image_affine = nibabel.load(original_image_path).affine\n",
    "    print(\"this is the structure bounds in the function:\", structure_bounds)\n",
    "    print(\"inital image affine:\", image_affine)\n",
    "    print(\"to double check the image array shapes 0 and 1 \", image_array.shape[0], image_array.shape[0])\n",
    "    image_affine[0,3] = image_affine[0,3] - (image_array.shape[0] - structure_bounds[0][1])*image_affine[1,1]\n",
    "    image_affine[1,3] = image_affine[1,3] - (image_array.shape[1] - structure_bounds[1][1])*image_affine[0,0]\n",
    "    #image_affine[2,3] = image_affine[2,3] + structure_bounds[2][0]*image_affine[2,2]\n",
    "    print(\"edited image affine:\", image_affine)\n",
    "    \n",
    "    image_array = image_array[structure_bounds[0][0]:structure_bounds[0][1],\n",
    "                          structure_bounds[1][0]:structure_bounds[1][1], :]\n",
    "    \n",
    "    bounded_image = nibabel.Nifti1Image(image_array, image_affine)\n",
    "    nibabel.nifti1.save(bounded_image, saved_image_path)\n",
    "    \n",
    "    return saved_image_path "
   ]
  },
  {
   "cell_type": "markdown",
   "metadata": {},
   "source": [
    "## Main Code \n",
    "The steps of the code are as follows:\n",
    "- set up all the required files \n",
    "- find the shift required in x,y,z \n",
    "- apply the shift to the moving image scan and structure one after the other using transformix(?) \n",
    "- check and correct the affine matrices of the moving image transformed scans \n",
    "- find structure bounds and crop the fixed scan and the transformed moving scan \n",
    "- perform deformable registration on the cropped images "
   ]
  },
  {
   "cell_type": "code",
   "execution_count": null,
   "metadata": {},
   "outputs": [],
   "source": [
    "#Obtain the structures \n",
    "planning_structure_files = get_structure_file(patient_path, patient_dir,\\\n",
    "                    roi_dict, structure=\"planning\", \\\n",
    "                    struct_names=roi_dict)\n",
    "relapse_structure_files = get_structure_file(patient_path, patient_dir, \\\n",
    "                    roi_dict, structure=\"relapse\", \\\n",
    "                    struct_names=roi_dict)  "
   ]
  },
  {
   "cell_type": "code",
   "execution_count": null,
   "metadata": {},
   "outputs": [],
   "source": [
    "relapse_structure_files"
   ]
  },
  {
   "cell_type": "code",
   "execution_count": null,
   "metadata": {},
   "outputs": [],
   "source": [
    "structure_files = {}\n",
    "if fixed_image == 'planning':\n",
    "    structure_files['fixed_image'] = planning_structure_files['Thyroid']\n",
    "    structure_files['moving_image'] = relapse_structure_files['Thyroid']\n",
    "else: \n",
    "    structure_files['fixed_image'] = relapse_structure_files['Thyroid']\n",
    "    structure_files['moving_image'] = planning_structure_files['Thyroid']"
   ]
  },
  {
   "cell_type": "code",
   "execution_count": null,
   "metadata": {},
   "outputs": [],
   "source": [
    "# Obtain the cropping bounds and shift values and store them \n",
    "planning_struct_bounds, planning_shift = structure_bounds(planning_structure_files['Thyroid'])\n",
    "relapse_struct_bounds, relapse_shift = structure_bounds(relapse_structure_files['Thyroid'])\n",
    "print(\"> The complete planning structure bounds are:\", planning_struct_bounds, \"\\n\")\n",
    "print(\"> The complete relapse structure bounds are:\", relapse_struct_bounds, \"\\n\")\n",
    "final_struct_bounds = adjust_structure_bounds(planning_struct_bounds, relapse_struct_bounds)\n",
    "print(\"> The final structure bounds are:\", final_struct_bounds, \"\\n\")\n",
    "\n",
    "superior_position = []    \n",
    "superior_position.append(get_first_scan(nii_fixed))\n",
    "superior_position.append(get_first_scan(nii_moving))\n",
    "scan_z_shift = (superior_position[1]-superior_position[0])\n",
    "y_shift = (planning_shift[1] - relapse_shift[1])\n",
    "z_shift = (planning_shift[2] - relapse_shift[2])\n",
    "\n",
    "if fixed_image == 'relapse':\n",
    "    y_shift = -y_shift\n",
    "    z_shift = -z_shift\n",
    "\n",
    "print(\"thyroid z_shift vs original\", z_shift, \"vs\", scan_z_shift, \"\\n\")\n",
    "final_z_shift = numpy.mean([scan_z_shift, z_shift])\n",
    "print(\"> The y shift for the moving image is:\", y_shift, \"\\n\")\n",
    "print(\"> The z shift for the moving image is:\", final_z_shift, \"\\n\")\n",
    "\n"
   ]
  },
  {
   "cell_type": "code",
   "execution_count": null,
   "metadata": {},
   "outputs": [],
   "source": [
    "#Run first elastix registration\n",
    "parameter_file = 'MI_Translation.txt'\n",
    "parameter_files_dir = ''\n",
    "\n",
    "registration = os.path.splitext(os.path.basename(parameter_file))[0]\n",
    "translation_registration_dir = f'{patient_dir}/{fixed_image}_fixed/{registration}'\n",
    "if not os.path.isdir(translation_registration_dir):\n",
    "    os.makedirs(translation_registration_dir)\n",
    "\n",
    "if parameter_files_dir == '':\n",
    "    voxtox_dir = os.sep.join(voxtox.__file__.split(os.sep)[:-2])\n",
    "    parameter_files_dir = f'{voxtox_dir}/examples/elastix/elastix_parameter_files/{parameter_file}'\n",
    "\n",
    "\n",
    "apply_deformable_transform(fixed=nii_fixed, \n",
    "                           moving=nii_moving, \n",
    "                           registration_dir=translation_registration_dir, parameter_file=parameter_files_dir)"
   ]
  },
  {
   "cell_type": "code",
   "execution_count": null,
   "metadata": {},
   "outputs": [],
   "source": [
    "# Write over the Parameters files with the new shift \n",
    "in_dir = f'{translation_registration_dir}/TransformParameters.0.txt'\n",
    "out_dir = f'{translation_registration_dir}/TransformParameter_custom.txt'\n",
    "write_translation_to_file(input_file=in_dir, output_file=out_dir,\n",
    "                          dz=(final_z_shift), overwrite=True)\n",
    "write_translation_to_file(input_file=out_dir, output_file=out_dir,\n",
    "                          dy=(y_shift))"
   ]
  },
  {
   "cell_type": "code",
   "execution_count": null,
   "metadata": {},
   "outputs": [],
   "source": [
    "# View initial registration performed by Elastix using Quickviewer \n",
    "QuickViewer([nii_fixed, f'{translation_registration_dir}/result.0.nii'], \n",
    "            title=[\"Planning Scan\", \"Relapse Scan\"],\n",
    "            figsize=5,\n",
    "            orthog_view=True)"
   ]
  },
  {
   "cell_type": "code",
   "execution_count": null,
   "metadata": {},
   "outputs": [],
   "source": [
    "# Apply a rigid transformation based on the overwritten parameter files \n",
    "apply_deformable_transform(fixed=nii_fixed,\n",
    "                            moving=nii_moving,\n",
    "                            registration_dir=translation_registration_dir, \n",
    "                            parameter_file=parameter_files_dir,\n",
    "                            translation_file = out_dir, \n",
    "                            translation=True)"
   ]
  },
  {
   "cell_type": "code",
   "execution_count": null,
   "metadata": {},
   "outputs": [],
   "source": [
    "# View the images after the new parameter files translation has been applied \n",
    "QuickViewer([nii_fixed, f'{translation_registration_dir}/result.0.nii'], zoom_ui=True,\n",
    "           translation_file_to_overwrite=f'{translation_registration_dir}/TransformParameter_custom.txt', \n",
    "            translation=True, scale_in_mm=False, show_overlay=True)"
   ]
  },
  {
   "cell_type": "markdown",
   "metadata": {},
   "source": [
    "## Change the slider to improve translation before running the next code block "
   ]
  },
  {
   "cell_type": "code",
   "execution_count": null,
   "metadata": {},
   "outputs": [],
   "source": [
    "#if changed the slides, re-run translation\n",
    "apply_deformable_transform(fixed=nii_fixed, \n",
    "                           moving=nii_moving, \n",
    "                           registration_dir=translation_registration_dir, \n",
    "                           parameter_file=parameter_files_dir,\n",
    "                           translation_file=out_dir,\n",
    "                           translation=True)\n",
    "\n",
    "QuickViewer([nii_fixed, f'{translation_registration_dir}/result.0.nii'], zoom_ui=True,\n",
    "           translation_file_to_overwrite=f'{translation_registration_dir}/TransformParameter_custom.txt', \n",
    "            translation=True)"
   ]
  },
  {
   "cell_type": "code",
   "execution_count": null,
   "metadata": {},
   "outputs": [],
   "source": [
    "# Transform structure set of interest using the final rigid transformation parameters\n",
    "search_keyword = \"FinalBSplineInterpolator\"\n",
    "replace_keyword = \"FinalNearestNeighborInterpolator\"\n",
    "replace_keywords(out_dir=f'{translation_registration_dir}/TransformParameters.0.txt', \n",
    "                search_keyword=search_keyword, \n",
    "                replace_keyword=replace_keyword)\n",
    "\n",
    "rigidly_transformed_structure = apply_rigid_transform(to_transform=structure_files['moving_image'], \n",
    "                        transformed_output_dir=f'{translation_registration_dir}/structure_transform_rigid',\n",
    "                        transform_file=f'{translation_registration_dir}/TransformParameters.0.txt', \n",
    "                        transform_type='-in')\n"
   ]
  },
  {
   "cell_type": "code",
   "execution_count": null,
   "metadata": {},
   "outputs": [],
   "source": [
    "# check the transform of the structure \n",
    "QuickViewer([f'{translation_registration_dir}/result.0.nii'], structs=[rigidly_transformed_structure], \n",
    "            scale_in_mm=False)"
   ]
  },
  {
   "cell_type": "code",
   "execution_count": null,
   "metadata": {},
   "outputs": [],
   "source": [
    "# Perform the cropping on the planning image, relapse image and the relapse structure set \n",
    "create_bounded_image(original_image_path = nii_fixed, \n",
    "                     structure_bounds=final_struct_bounds, \n",
    "                     saved_image_path = f'{translation_registration_dir}/cropped_{fixed_image}_scan.nii')\n",
    "create_bounded_image(original_image_path = f'{translation_registration_dir}/result.0.nii',\n",
    "                     structure_bounds=final_struct_bounds, \n",
    "                     saved_image_path = f'{translation_registration_dir}/cropped_{moving_image}_scan.nii')\n",
    "create_bounded_image(original_image_path = rigidly_transformed_structure,\n",
    "                     structure_bounds=final_struct_bounds, \n",
    "                     saved_image_path = f'{translation_registration_dir}/cropped_{moving_image}_struct.nii')\n",
    "create_bounded_image(original_image_path = structure_files['fixed_image'],\n",
    "                     structure_bounds=final_struct_bounds, \n",
    "                     saved_image_path = f'{translation_registration_dir}/cropped_{fixed_image}_struct.nii')"
   ]
  },
  {
   "cell_type": "code",
   "execution_count": null,
   "metadata": {},
   "outputs": [],
   "source": [
    "#QuickViewer([f'{translation_registration_dir}/cropped_{fixed_image}_scan.nii', f'{translation_registration_dir}/cropped_{moving_image}_scan.nii'],\n",
    "           #translation_file_to_overwrite=f'{translation_registration_dir}/TransformParameter_custom.txt', translation=True)\n",
    "#QuickViewer([f'{translation_registration_dir}/cropped_relapse_scan.nii'], structs= f'{translation_registration_dir}/cropped_relapse_struct.nii')\n",
    "#QuickViewer([f'{translation_registration_dir}/cropped_planning_scan.nii'])"
   ]
  },
  {
   "cell_type": "code",
   "execution_count": null,
   "metadata": {},
   "outputs": [],
   "source": [
    "#re-regsiter cropped scans?? \n",
    "apply_deformable_transform(fixed=f'{translation_registration_dir}/cropped_{fixed_image}_scan.nii', \n",
    "                           moving=f'{translation_registration_dir}/cropped_{moving_image}_scan.nii', \n",
    "                           registration_dir=translation_registration_dir, \n",
    "                           parameter_file=parameter_files_dir,\n",
    "                           translation_file=out_dir,\n",
    "                           translation=False)"
   ]
  },
  {
   "cell_type": "code",
   "execution_count": null,
   "metadata": {},
   "outputs": [],
   "source": [
    "# View the re-registered cropped scans \n",
    "QuickViewer([f'{translation_registration_dir}/cropped_{fixed_image}_scan.nii', f'{translation_registration_dir}/result.0.nii'], \n",
    "          translation_file_to_overwrite=f'{translation_registration_dir}/TransformParameter_custom.txt', translation=True)\n"
   ]
  },
  {
   "cell_type": "code",
   "execution_count": null,
   "metadata": {},
   "outputs": [],
   "source": [
    "#re-regsiter if changed \n",
    "#apply_deformable_transform(fixed=f'{translation_registration_dir}/cropped_{fixed_image}_scan.nii', \n",
    "#                           moving=f'{translation_registration_dir}/result.0.nii', \n",
    "#                           registration_dir=translation_registration_dir, \n",
    "#                           parameter_file=parameter_files_dir,\n",
    "#                           translation_file=out_dir,\n",
    "#                           translation=True)"
   ]
  },
  {
   "cell_type": "code",
   "execution_count": null,
   "metadata": {},
   "outputs": [],
   "source": [
    "#QuickViewer([f'{translation_registration_dir}/cropped_{fixed_image}_scan.nii', f'{translation_registration_dir}/result.0.nii'], \n",
    "#          translation_file_to_overwrite=f'{translation_registration_dir}/TransformParameter_custom.txt', translation=True)\n"
   ]
  },
  {
   "cell_type": "code",
   "execution_count": null,
   "metadata": {},
   "outputs": [],
   "source": [
    "# Transform structure set again using cropped transform \n",
    "replace_keyword = \"FinalNearestNeighborInterpolator\"\n",
    "replace_keywords(out_dir=f'{translation_registration_dir}/TransformParameters.0.txt', \n",
    "                search_keyword=search_keyword, \n",
    "                replace_keyword=replace_keyword)\n",
    "\n",
    "rigidly_transformed_structure = apply_rigid_transform(to_transform=f'{translation_registration_dir}/cropped_{moving_image}_struct.nii',\n",
    "                        transformed_output_dir=f'{translation_registration_dir}/structure_transform_rigid',\n",
    "                        transform_file=f'{translation_registration_dir}/TransformParameters.0.txt', \n",
    "                        transform_type='-in')\n",
    "\n",
    "# Check the transform of the structure again\n",
    "QuickViewer([f'{translation_registration_dir}/result.0.nii'], structs=[rigidly_transformed_structure])"
   ]
  },
  {
   "cell_type": "code",
   "execution_count": null,
   "metadata": {},
   "outputs": [],
   "source": [
    "# Check the affine matrix of the two images are the same \n",
    "print(nibabel.load(f'{translation_registration_dir}/result.0.nii').affine)\n",
    "print(nibabel.load(rigidly_transformed_structure).affine)"
   ]
  },
  {
   "cell_type": "code",
   "execution_count": null,
   "metadata": {},
   "outputs": [],
   "source": [
    "parameter_file = 'MI_BSpline10.txt'\n",
    "parameter_files_dir = ''\n",
    "\n",
    "registration = os.path.splitext(os.path.basename(parameter_file))[0]\n",
    "deformable_registration_dir = f'{patient_dir}/{fixed_image}_fixed/{registration}'\n",
    "if not os.path.isdir(deformable_registration_dir):\n",
    "    os.makedirs(deformable_registration_dir)\n",
    "\n",
    "if parameter_files_dir == '':\n",
    "    voxtox_dir = os.sep.join(voxtox.__file__.split(os.sep)[:-2])\n",
    "    parameter_files_dir = f'{voxtox_dir}/examples/elastix/elastix_parameter_files/{parameter_file}'"
   ]
  },
  {
   "cell_type": "code",
   "execution_count": null,
   "metadata": {},
   "outputs": [],
   "source": [
    "# Apply B-Spline transform to the cropped translated image \n",
    "apply_deformable_transform(fixed=f'{translation_registration_dir}/cropped_{fixed_image}_scan.nii', \n",
    "                           moving=f'{translation_registration_dir}/result.0.nii',\n",
    "                           registration_dir=deformable_registration_dir, \n",
    "                           parameter_file=parameter_files_dir,\n",
    "                           translation_file=out_dir,\n",
    "                           translation=False)"
   ]
  },
  {
   "cell_type": "code",
   "execution_count": null,
   "metadata": {},
   "outputs": [],
   "source": [
    "# View result of transformed recurrence scan \n",
    "QuickViewer([f'{translation_registration_dir}/cropped_{fixed_image}_scan.nii', f'{deformable_registration_dir}/result.0.nii'],\n",
    "           title=['Cropped Planning Scan', 'Cropped Regsitered Relapse Scan'],\n",
    "           figsize=5,\n",
    "           zoom_ui =True,\n",
    "           comparison=True)"
   ]
  },
  {
   "cell_type": "code",
   "execution_count": null,
   "metadata": {},
   "outputs": [],
   "source": [
    "# Apply deformable registration to cropped and translated thyroid structure set \n",
    "search_keyword = \"FinalBSplineInterpolator\"\n",
    "replace_keyword = \"FinalNearestNeighborInterpolator\"\n",
    "replace_keywords(out_dir=f'{deformable_registration_dir}/TransformParameters.0.txt', \n",
    "                search_keyword=search_keyword, \n",
    "                replace_keyword=replace_keyword)\n",
    "\n",
    "deformably_transformed_structure = apply_rigid_transform(to_transform=rigidly_transformed_structure,\n",
    "                        transformed_output_dir=f'{deformable_registration_dir}/structure_transform_deformable',\n",
    "                        transform_file=f'{deformable_registration_dir}/TransformParameters.0.txt', \n",
    "                        transform_type='-in')"
   ]
  },
  {
   "cell_type": "code",
   "execution_count": null,
   "metadata": {},
   "outputs": [],
   "source": [
    "QuickViewer([f'{deformable_registration_dir}/result.0.nii'], structs=[deformably_transformed_structure])"
   ]
  },
  {
   "cell_type": "code",
   "execution_count": null,
   "metadata": {},
   "outputs": [],
   "source": [
    "QuickViewer([f'{translation_registration_dir}/cropped_{fixed_image}_scan.nii'], \n",
    "            structs=[f'{translation_registration_dir}/Croppedplanningthyroid.nii', '/Users/ceilidhwelsh/Documents/CambridgePhD/CodeClub/20210514_TryThisAgain/tmp/VT1_H_F6A233K1/planning_fixed/MI_BSpline10/structure_transform_deformable/TransformedRelapseThyroid.nii'], \n",
    "           compare_structs=True, title=['B) Planning Scan'], struct_legend=True, figsize=5.5)"
   ]
  },
  {
   "cell_type": "code",
   "execution_count": null,
   "metadata": {
    "scrolled": false
   },
   "outputs": [],
   "source": [
    "QuickViewer([f'{translation_registration_dir}/cropped_{fixed_image}_scan.nii'], \n",
    "            structs=[f'{translation_registration_dir}/cropped_{fixed_image}_struct.nii', '/Users/ceilidhwelsh/Documents/CambridgePhD/CodeClub/20210514_TryThisAgain/tmp/VT1_H_F6A233K1/planning_fixed/MI_BSpline10/structure_transform_deformable/TransformedRelapseThyroid.nii'], \n",
    "           compare_structs=True, title=['A) Planning Scan'], struct_legend=True)\n",
    "QuickViewer([f'{translation_registration_dir}/cropped_{fixed_image}_scan.nii'], dose=[f'{translation_registration_dir}/dose.nii'],\n",
    "            structs=[f'{translation_registration_dir}/cropped_{fixed_image}_struct.nii', deformably_transformed_structure], \n",
    "           compare_structs=True)"
   ]
  },
  {
   "cell_type": "markdown",
   "metadata": {},
   "source": [
    "## Extract Dose from within the translated structure set of interest"
   ]
  },
  {
   "cell_type": "code",
   "execution_count": null,
   "metadata": {},
   "outputs": [],
   "source": [
    "def extract_dose_from_nii(dose, path_to_struct_nii, patient, structure_name): \n",
    "    \"\"\"Use dose field to extract the dose from within a selected structure\"\"\"\n",
    "    doseDict={}\n",
    "    #doseArray = dose.getImageStack()  #this is for the CT object \n",
    "    doseArray = dose.get_fdata()       #this passes the dose nii file into the function instead of the CT object \n",
    "    \n",
    "    maskArray = nibabel.load(path_to_struct_nii).get_fdata()\n",
    "    structureDoseArray = doseArray[maskArray > 0.5]\n",
    "    doseDict = {f'{structure_name}': list(structureDoseArray)}\n",
    "\n",
    "    return doseDict  \n",
    "\n",
    "def get_dose_and_study(patient):\n",
    "    \"\"\"Obtains planned dose field for patient\"\"\"\n",
    "    # For patient study check for and obtain the dose files \n",
    "    for studyTmp in patient.studyList:\n",
    "        if studyTmp.doseList:\n",
    "            study = studyTmp\n",
    "            dose = study.getPlanDose()\n",
    "        planning_scan = study.ctList[-1]\n",
    "    \n",
    "    return study, dose\n",
    "\n",
    "\n",
    "def convert_to_nii(file_to_convert, outPath):\n",
    "    \"\"\"convert the \"\"\"\n",
    "    nifti = voxtox.image.convertCTToNifti(file_to_convert)\n",
    "    # Create output directory if needed, and write NIfTI object to file\n",
    "    outPath = voxtox.utility.fullpath(outPath)\n",
    "    outDirPath = os.path.dirname(outPath)\n",
    "    if not os.path.exists(outDirPath):\n",
    "        os.makedirs(outDirPath)\n",
    "    nifti.to_filename(outPath)\n",
    "    #convert any file to a nifti file format \n",
    "    #currently happens for converting the transformed dose to nii\n",
    "    #currently happens for converting the transformed structure outline to nii \n",
    "    return file_to_convert\n",
    "\n",
    "\n",
    "study, dose = get_dose_and_study(patient)\n",
    "dose = voxtox.utility.matchSize(dose, ct[fixed_image], 0)\n",
    "dose_nii = convert_to_nii(dose, f'{translation_registration_dir}/dose.nii')\n",
    "cropped_dose_nii = create_bounded_image(original_image_path=f'{translation_registration_dir}/dose.nii',\n",
    "                                        structure_bounds=final_struct_bounds, \n",
    "                                        saved_image_path = f'{translation_registration_dir}/cropped_dose.nii')\n",
    "cropped_dose_nii = nibabel.load(cropped_dose_nii)\n",
    "\n",
    "\n",
    "doseDict = extract_dose_from_nii(cropped_dose_nii, deformably_transformed_structure, patient, structure_name='RelapseThyroid')\n",
    "print(doseDict)"
   ]
  },
  {
   "cell_type": "code",
   "execution_count": null,
   "metadata": {},
   "outputs": [],
   "source": [
    "# Use QuickViewer to visualise the dose field within the transformed structure set "
   ]
  },
  {
   "cell_type": "code",
   "execution_count": null,
   "metadata": {},
   "outputs": [],
   "source": [
    "deformably_transformed_structure='/Users/ceilidhwelsh/Documents/CambridgePhD/CodeClub/20210514_TryThisAgain/tmp/VT1_H_F6A233K1/planning_fixed/MI_BSpline10/structure_transform_deformable/TransformedRelapseThyroid.nii'\n",
    "\n",
    "QuickViewer([f'{translation_registration_dir}/cropped_planning_scan.nii'], dose=f'{translation_registration_dir}/cropped_dose.nii',\n",
    "           structs=[deformably_transformed_structure], colorbar=True, structs_as_mask=True, dose_opacity=1, title=['Dose Within Transformed Relapse Thyroid'],\n",
    "           struct_legend=True, figsize=5.2)"
   ]
  },
  {
   "cell_type": "code",
   "execution_count": null,
   "metadata": {},
   "outputs": [],
   "source": [
    "QuickViewer([f'{translation_registration_dir}/cropped_planning_scan.nii'], dose=f'{translation_registration_dir}/cropped_dose.nii',\n",
    "           structs=[deformably_transformed_structure], colorbar=True, title=['Planning Scan With Planned Dose Overlay'], struct_legend=True, figsize=5.2)"
   ]
  },
  {
   "cell_type": "code",
   "execution_count": null,
   "metadata": {},
   "outputs": [],
   "source": [
    "QuickViewer([f'{translation_registration_dir}/cropped_planning_scan.nii'], #dose=f'{translation_registration_dir}/cropped_dose.nii',\n",
    "          structs=[deformably_transformed_structure], colorbar=True, title=['Planning Scan'], figsize=5.2, struct_legend=True)"
   ]
  }
 ],
 "metadata": {
  "kernelspec": {
   "display_name": "Python 3",
   "language": "python",
   "name": "python3"
  },
  "language_info": {
   "codemirror_mode": {
    "name": "ipython",
    "version": 3
   },
   "file_extension": ".py",
   "mimetype": "text/x-python",
   "name": "python",
   "nbconvert_exporter": "python",
   "pygments_lexer": "ipython3",
   "version": "3.8.5"
  }
 },
 "nbformat": 4,
 "nbformat_minor": 4
}
