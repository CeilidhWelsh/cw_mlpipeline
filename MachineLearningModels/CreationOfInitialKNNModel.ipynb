{
 "cells": [
  {
   "cell_type": "markdown",
   "metadata": {},
   "source": [
    "# Creation of an Initial KNN Model \n",
    "The k-nearest neighbors (KNN) algorithm is a simple, supervised machine learning algorithm that can be used to solve both classification and regression problems. The KNN algorithm assumes that similar things exist in close proximity, so uses a distance metric to allocate a class label based on its nearest neighbouring classes.  "
   ]
  },
  {
   "cell_type": "code",
   "execution_count": 23,
   "metadata": {},
   "outputs": [],
   "source": [
    "# import libraries \n",
    "import pandas as pd\n",
    "import numpy as np\n",
    "import seaborn as sns\n",
    "import matplotlib.pyplot as plt \n",
    "from sklearn.metrics import confusion_matrix, classification_report, accuracy_score\n",
    "%matplotlib inline \n",
    "pd.set_option(\"display.max_rows\", 10)"
   ]
  },
  {
   "cell_type": "code",
   "execution_count": 24,
   "metadata": {},
   "outputs": [],
   "source": [
    "df = pd.read_csv('CompleteBaselineAcuteDataVoxtox.csv')\n",
    "recurrence_df = pd.read_csv('RecurrencePatientIDs.csv')"
   ]
  },
  {
   "cell_type": "code",
   "execution_count": 25,
   "metadata": {},
   "outputs": [],
   "source": [
    "df = pd.merge(df, recurrence_df, how='outer', on=['PATIENT_ID'])"
   ]
  },
  {
   "cell_type": "code",
   "execution_count": 26,
   "metadata": {},
   "outputs": [],
   "source": [
    "df['LOCAL_RECURRENCE'].fillna(0, inplace=True)\n",
    "df.drop(['Unnamed: 0'], axis=1, inplace=True)"
   ]
  },
  {
   "cell_type": "markdown",
   "metadata": {},
   "source": [
    "## One Hot Encoding for Cateogorical Variables \n",
    "- This replaces categorical string values with numerical ones which is easier for ML algorithms to interpret "
   ]
  },
  {
   "cell_type": "code",
   "execution_count": 28,
   "metadata": {},
   "outputs": [],
   "source": [
    "# Functions for one hot encoding \n",
    "def binary_sex(sex):\n",
    "    if sex == \"M\":\n",
    "        new_sex = 0 \n",
    "    else: \n",
    "        new_sex = 1\n",
    "    \n",
    "    return new_sex\n",
    "        \n",
    "    \n",
    "def binary_definitive(definitive_rt):\n",
    "    if definitive_rt == 'Definitive':\n",
    "        new_defin = 1\n",
    "    else:\n",
    "        new_defin = 0\n",
    "        \n",
    "    return new_defin\n",
    "\n",
    "\n",
    "def site_categories(primary_site):\n",
    "    if primary_site == 'oropharynx':\n",
    "        site = '1'\n",
    "    elif primary_site == 'oral cavity':\n",
    "        site = '2'\n",
    "    elif primary_site == 'hypopharynx':\n",
    "        site = '3'\n",
    "    elif primary_site == 'larynx':\n",
    "        site = '4'\n",
    "    elif primary_site == 'nasopharynx':\n",
    "        site = '5'\n",
    "    else: \n",
    "        site = \"6\"\n",
    "    return site \n",
    "\n",
    "df['BINARY_SEX'] = df.apply(lambda x: binary_sex(x['SEX']),axis=1) \n",
    "df['BINARY_DEFINITIVE'] = df.apply(lambda x: binary_definitive(x['DEFINITIVE_RT']),axis=1) \n",
    "df['CATEGORICAL_SITE'] = df.apply(lambda x: site_categories(x['PRIMARY_SITE']),axis=1) "
   ]
  },
  {
   "cell_type": "code",
   "execution_count": 29,
   "metadata": {},
   "outputs": [
    {
     "data": {
      "text/html": [
       "<div>\n",
       "<style scoped>\n",
       "    .dataframe tbody tr th:only-of-type {\n",
       "        vertical-align: middle;\n",
       "    }\n",
       "\n",
       "    .dataframe tbody tr th {\n",
       "        vertical-align: top;\n",
       "    }\n",
       "\n",
       "    .dataframe thead th {\n",
       "        text-align: right;\n",
       "    }\n",
       "</style>\n",
       "<table border=\"1\" class=\"dataframe\">\n",
       "  <thead>\n",
       "    <tr style=\"text-align: right;\">\n",
       "      <th></th>\n",
       "      <th>PATIENT_ID</th>\n",
       "      <th>ASSESSMENT_DATE</th>\n",
       "      <th>HEIGHT</th>\n",
       "      <th>WEIGHT</th>\n",
       "      <th>SMOKER</th>\n",
       "      <th>SMOKING_AGE_STARTED</th>\n",
       "      <th>ALCOHOL</th>\n",
       "      <th>PRIMARY_SURGERY</th>\n",
       "      <th>NEOADJUVANT_CHEMO</th>\n",
       "      <th>AGE</th>\n",
       "      <th>...</th>\n",
       "      <th>Unnamed: 2</th>\n",
       "      <th>Unnamed: 3</th>\n",
       "      <th>Unnamed: 4</th>\n",
       "      <th>Unnamed: 5</th>\n",
       "      <th>Unnamed: 6</th>\n",
       "      <th>Unnamed: 7</th>\n",
       "      <th>Unnamed: 8</th>\n",
       "      <th>BINARY_SEX</th>\n",
       "      <th>BINARY_DEFINITIVE</th>\n",
       "      <th>CATEGORICAL_SITE</th>\n",
       "    </tr>\n",
       "  </thead>\n",
       "  <tbody>\n",
       "    <tr>\n",
       "      <th>0</th>\n",
       "      <td>VT1_H_A0254K1L</td>\n",
       "      <td>06/01/2014</td>\n",
       "      <td>178.9</td>\n",
       "      <td>82.8</td>\n",
       "      <td>1.0</td>\n",
       "      <td>10</td>\n",
       "      <td>0.0</td>\n",
       "      <td>0.0</td>\n",
       "      <td>1.0</td>\n",
       "      <td>65.0</td>\n",
       "      <td>...</td>\n",
       "      <td>NaN</td>\n",
       "      <td>NaN</td>\n",
       "      <td>NaN</td>\n",
       "      <td>NaN</td>\n",
       "      <td>NaN</td>\n",
       "      <td>NaN</td>\n",
       "      <td>NaN</td>\n",
       "      <td>0</td>\n",
       "      <td>1</td>\n",
       "      <td>5</td>\n",
       "    </tr>\n",
       "    <tr>\n",
       "      <th>1</th>\n",
       "      <td>VT1_H_B2F981K1</td>\n",
       "      <td>18/12/2013</td>\n",
       "      <td>176.8</td>\n",
       "      <td>100.5</td>\n",
       "      <td>1.0</td>\n",
       "      <td>14</td>\n",
       "      <td>1.0</td>\n",
       "      <td>1.0</td>\n",
       "      <td>1.0</td>\n",
       "      <td>59.0</td>\n",
       "      <td>...</td>\n",
       "      <td>NaN</td>\n",
       "      <td>NaN</td>\n",
       "      <td>NaN</td>\n",
       "      <td>NaN</td>\n",
       "      <td>NaN</td>\n",
       "      <td>NaN</td>\n",
       "      <td>NaN</td>\n",
       "      <td>0</td>\n",
       "      <td>1</td>\n",
       "      <td>1</td>\n",
       "    </tr>\n",
       "    <tr>\n",
       "      <th>2</th>\n",
       "      <td>VT1_H_9FF402K1</td>\n",
       "      <td>19/12/2013</td>\n",
       "      <td>NaN</td>\n",
       "      <td>NaN</td>\n",
       "      <td>2.0</td>\n",
       "      <td>NaN</td>\n",
       "      <td>2.0</td>\n",
       "      <td>1.0</td>\n",
       "      <td>0.0</td>\n",
       "      <td>63.0</td>\n",
       "      <td>...</td>\n",
       "      <td>NaN</td>\n",
       "      <td>NaN</td>\n",
       "      <td>NaN</td>\n",
       "      <td>NaN</td>\n",
       "      <td>NaN</td>\n",
       "      <td>NaN</td>\n",
       "      <td>NaN</td>\n",
       "      <td>1</td>\n",
       "      <td>0</td>\n",
       "      <td>6</td>\n",
       "    </tr>\n",
       "    <tr>\n",
       "      <th>3</th>\n",
       "      <td>VT1_H_1E5602K1</td>\n",
       "      <td>16/12/2013</td>\n",
       "      <td>153.0</td>\n",
       "      <td>101.6</td>\n",
       "      <td>1.0</td>\n",
       "      <td>25</td>\n",
       "      <td>0.0</td>\n",
       "      <td>1.0</td>\n",
       "      <td>1.0</td>\n",
       "      <td>44.0</td>\n",
       "      <td>...</td>\n",
       "      <td>NaN</td>\n",
       "      <td>NaN</td>\n",
       "      <td>NaN</td>\n",
       "      <td>NaN</td>\n",
       "      <td>NaN</td>\n",
       "      <td>NaN</td>\n",
       "      <td>NaN</td>\n",
       "      <td>0</td>\n",
       "      <td>0</td>\n",
       "      <td>6</td>\n",
       "    </tr>\n",
       "    <tr>\n",
       "      <th>4</th>\n",
       "      <td>VT1_H_4091F1K1</td>\n",
       "      <td>18/12/2013</td>\n",
       "      <td>151.0</td>\n",
       "      <td>50.8</td>\n",
       "      <td>1.0</td>\n",
       "      <td>14</td>\n",
       "      <td>0.0</td>\n",
       "      <td>0.0</td>\n",
       "      <td>1.0</td>\n",
       "      <td>64.0</td>\n",
       "      <td>...</td>\n",
       "      <td>NaN</td>\n",
       "      <td>NaN</td>\n",
       "      <td>NaN</td>\n",
       "      <td>NaN</td>\n",
       "      <td>NaN</td>\n",
       "      <td>NaN</td>\n",
       "      <td>NaN</td>\n",
       "      <td>1</td>\n",
       "      <td>1</td>\n",
       "      <td>4</td>\n",
       "    </tr>\n",
       "    <tr>\n",
       "      <th>...</th>\n",
       "      <td>...</td>\n",
       "      <td>...</td>\n",
       "      <td>...</td>\n",
       "      <td>...</td>\n",
       "      <td>...</td>\n",
       "      <td>...</td>\n",
       "      <td>...</td>\n",
       "      <td>...</td>\n",
       "      <td>...</td>\n",
       "      <td>...</td>\n",
       "      <td>...</td>\n",
       "      <td>...</td>\n",
       "      <td>...</td>\n",
       "      <td>...</td>\n",
       "      <td>...</td>\n",
       "      <td>...</td>\n",
       "      <td>...</td>\n",
       "      <td>...</td>\n",
       "      <td>...</td>\n",
       "      <td>...</td>\n",
       "      <td>...</td>\n",
       "    </tr>\n",
       "    <tr>\n",
       "      <th>224</th>\n",
       "      <td>VT1_H_DB29D1K1</td>\n",
       "      <td>13/11/2013</td>\n",
       "      <td>171.0</td>\n",
       "      <td>88.0</td>\n",
       "      <td>1.0</td>\n",
       "      <td>16.0</td>\n",
       "      <td>1.0</td>\n",
       "      <td>0.0</td>\n",
       "      <td>1.0</td>\n",
       "      <td>67.0</td>\n",
       "      <td>...</td>\n",
       "      <td>NaN</td>\n",
       "      <td>NaN</td>\n",
       "      <td>NaN</td>\n",
       "      <td>NaN</td>\n",
       "      <td>NaN</td>\n",
       "      <td>NaN</td>\n",
       "      <td>NaN</td>\n",
       "      <td>0</td>\n",
       "      <td>1</td>\n",
       "      <td>1</td>\n",
       "    </tr>\n",
       "    <tr>\n",
       "      <th>225</th>\n",
       "      <td>VT1_H_3794C1K1</td>\n",
       "      <td>18/11/2013</td>\n",
       "      <td>171.5</td>\n",
       "      <td>129.1</td>\n",
       "      <td>1.0</td>\n",
       "      <td>15.0</td>\n",
       "      <td>1.0</td>\n",
       "      <td>0.0</td>\n",
       "      <td>0.0</td>\n",
       "      <td>69.0</td>\n",
       "      <td>...</td>\n",
       "      <td>NaN</td>\n",
       "      <td>NaN</td>\n",
       "      <td>NaN</td>\n",
       "      <td>NaN</td>\n",
       "      <td>NaN</td>\n",
       "      <td>NaN</td>\n",
       "      <td>NaN</td>\n",
       "      <td>0</td>\n",
       "      <td>0</td>\n",
       "      <td>4</td>\n",
       "    </tr>\n",
       "    <tr>\n",
       "      <th>226</th>\n",
       "      <td>VT1_H_E09B41K1</td>\n",
       "      <td>20/11/2013</td>\n",
       "      <td>166.4</td>\n",
       "      <td>88.2</td>\n",
       "      <td>1.0</td>\n",
       "      <td>22.0</td>\n",
       "      <td>0.0</td>\n",
       "      <td>0.0</td>\n",
       "      <td>0.0</td>\n",
       "      <td>75.0</td>\n",
       "      <td>...</td>\n",
       "      <td>NaN</td>\n",
       "      <td>NaN</td>\n",
       "      <td>NaN</td>\n",
       "      <td>NaN</td>\n",
       "      <td>NaN</td>\n",
       "      <td>NaN</td>\n",
       "      <td>NaN</td>\n",
       "      <td>0</td>\n",
       "      <td>1</td>\n",
       "      <td>4</td>\n",
       "    </tr>\n",
       "    <tr>\n",
       "      <th>227</th>\n",
       "      <td>VT1_H_BAF702K1</td>\n",
       "      <td>03/12/2013</td>\n",
       "      <td>NaN</td>\n",
       "      <td>NaN</td>\n",
       "      <td>1.0</td>\n",
       "      <td>NaN</td>\n",
       "      <td>0.0</td>\n",
       "      <td>0.0</td>\n",
       "      <td>1.0</td>\n",
       "      <td>72.0</td>\n",
       "      <td>...</td>\n",
       "      <td>NaN</td>\n",
       "      <td>NaN</td>\n",
       "      <td>NaN</td>\n",
       "      <td>NaN</td>\n",
       "      <td>NaN</td>\n",
       "      <td>NaN</td>\n",
       "      <td>NaN</td>\n",
       "      <td>0</td>\n",
       "      <td>1</td>\n",
       "      <td>1</td>\n",
       "    </tr>\n",
       "    <tr>\n",
       "      <th>228</th>\n",
       "      <td>VT1_H_2333CK1L</td>\n",
       "      <td>03/12/2013</td>\n",
       "      <td>NaN</td>\n",
       "      <td>NaN</td>\n",
       "      <td>2.0</td>\n",
       "      <td>NaN</td>\n",
       "      <td>0.0</td>\n",
       "      <td>1.0</td>\n",
       "      <td>0.0</td>\n",
       "      <td>26.0</td>\n",
       "      <td>...</td>\n",
       "      <td>NaN</td>\n",
       "      <td>NaN</td>\n",
       "      <td>NaN</td>\n",
       "      <td>NaN</td>\n",
       "      <td>NaN</td>\n",
       "      <td>NaN</td>\n",
       "      <td>NaN</td>\n",
       "      <td>1</td>\n",
       "      <td>0</td>\n",
       "      <td>6</td>\n",
       "    </tr>\n",
       "  </tbody>\n",
       "</table>\n",
       "<p>229 rows × 38 columns</p>\n",
       "</div>"
      ],
      "text/plain": [
       "         PATIENT_ID ASSESSMENT_DATE  HEIGHT  WEIGHT  SMOKER  \\\n",
       "0    VT1_H_A0254K1L      06/01/2014   178.9    82.8     1.0   \n",
       "1    VT1_H_B2F981K1      18/12/2013   176.8   100.5     1.0   \n",
       "2    VT1_H_9FF402K1      19/12/2013     NaN     NaN     2.0   \n",
       "3    VT1_H_1E5602K1      16/12/2013   153.0   101.6     1.0   \n",
       "4    VT1_H_4091F1K1      18/12/2013   151.0    50.8     1.0   \n",
       "..              ...             ...     ...     ...     ...   \n",
       "224  VT1_H_DB29D1K1      13/11/2013   171.0    88.0     1.0   \n",
       "225  VT1_H_3794C1K1      18/11/2013   171.5   129.1     1.0   \n",
       "226  VT1_H_E09B41K1      20/11/2013   166.4    88.2     1.0   \n",
       "227  VT1_H_BAF702K1      03/12/2013     NaN     NaN     1.0   \n",
       "228  VT1_H_2333CK1L      03/12/2013     NaN     NaN     2.0   \n",
       "\n",
       "    SMOKING_AGE_STARTED  ALCOHOL  PRIMARY_SURGERY  NEOADJUVANT_CHEMO   AGE  \\\n",
       "0                    10      0.0              0.0                1.0  65.0   \n",
       "1                    14      1.0              1.0                1.0  59.0   \n",
       "2                   NaN      2.0              1.0                0.0  63.0   \n",
       "3                    25      0.0              1.0                1.0  44.0   \n",
       "4                    14      0.0              0.0                1.0  64.0   \n",
       "..                  ...      ...              ...                ...   ...   \n",
       "224                16.0      1.0              0.0                1.0  67.0   \n",
       "225                15.0      1.0              0.0                0.0  69.0   \n",
       "226                22.0      0.0              0.0                0.0  75.0   \n",
       "227                 NaN      0.0              0.0                1.0  72.0   \n",
       "228                 NaN      0.0              1.0                0.0  26.0   \n",
       "\n",
       "     ... Unnamed: 2  Unnamed: 3  Unnamed: 4  Unnamed: 5  Unnamed: 6  \\\n",
       "0    ...        NaN         NaN         NaN         NaN         NaN   \n",
       "1    ...        NaN         NaN         NaN         NaN         NaN   \n",
       "2    ...        NaN         NaN         NaN         NaN         NaN   \n",
       "3    ...        NaN         NaN         NaN         NaN         NaN   \n",
       "4    ...        NaN         NaN         NaN         NaN         NaN   \n",
       "..   ...        ...         ...         ...         ...         ...   \n",
       "224  ...        NaN         NaN         NaN         NaN         NaN   \n",
       "225  ...        NaN         NaN         NaN         NaN         NaN   \n",
       "226  ...        NaN         NaN         NaN         NaN         NaN   \n",
       "227  ...        NaN         NaN         NaN         NaN         NaN   \n",
       "228  ...        NaN         NaN         NaN         NaN         NaN   \n",
       "\n",
       "     Unnamed: 7  Unnamed: 8  BINARY_SEX  BINARY_DEFINITIVE  CATEGORICAL_SITE  \n",
       "0           NaN         NaN           0                  1                 5  \n",
       "1           NaN         NaN           0                  1                 1  \n",
       "2           NaN         NaN           1                  0                 6  \n",
       "3           NaN         NaN           0                  0                 6  \n",
       "4           NaN         NaN           1                  1                 4  \n",
       "..          ...         ...         ...                ...               ...  \n",
       "224         NaN         NaN           0                  1                 1  \n",
       "225         NaN         NaN           0                  0                 4  \n",
       "226         NaN         NaN           0                  1                 4  \n",
       "227         NaN         NaN           0                  1                 1  \n",
       "228         NaN         NaN           1                  0                 6  \n",
       "\n",
       "[229 rows x 38 columns]"
      ]
     },
     "execution_count": 29,
     "metadata": {},
     "output_type": "execute_result"
    }
   ],
   "source": [
    "df"
   ]
  },
  {
   "cell_type": "markdown",
   "metadata": {},
   "source": [
    "## Check Correlations Between Variables\n",
    "- Max Dose is highly correlated with BED and Definitive RT - so I will just keep maxdose \n",
    "- High correlation between the peak values and STATScore - just keep STATscore"
   ]
  },
  {
   "cell_type": "code",
   "execution_count": 30,
   "metadata": {},
   "outputs": [
    {
     "data": {
      "image/png": "[encoded data removed]",
      "text/plain": [
       "<Figure size 720x720 with 2 Axes>"
      ]
     },
     "metadata": {
      "needs_background": "light"
     },
     "output_type": "display_data"
    }
   ],
   "source": [
    "from heatmap import heatmap, corrplot\n",
    "  \n",
    "check_corr = df[['HEIGHT', 'WEIGHT', 'SMOKER', 'ALCOHOL', \\\n",
    "                 'PRIMARY_SURGERY', 'NEOADJUVANT_CHEMO', \\\n",
    "                 'AGE', 'BINARY_SEX', 'FRACTIONS', 'MAX_DOSE', \\\n",
    "                 'BED','DYS_AUC', 'XERO_AUC', 'MUCO_AUC',\\\n",
    "                 'DYS_PEAK', 'XERO_PEAK', 'MUCO_PEAK',\\\n",
    "                 'STAT_SCORE', 'CATEGORICAL_SITE', 'TNM_STAGE',\\\n",
    "                 'BINARY_DEFINITIVE', 'DRY_MOUTH_BASELINE', \\\n",
    "                 'DYSPHAGIA_BASELINE', 'ORAL_MUCOSITIS_BASELINE', 'LOCAL_RECURRENCE']]\n",
    "plt.figure(figsize=(10, 10))\n",
    "corrplot(check_corr.corr())\n",
    "plt.savefig('CorrPlotMLModels.png')"
   ]
  },
  {
   "cell_type": "markdown",
   "metadata": {},
   "source": [
    "## Creating KNN Model \n",
    "- Create df for the predictive variables and the class to predict as x,y\n",
    "- Impute the missing information \n",
    "- Use the standard scaler to normalise values between 0-1 for all categories \n",
    "- Train, Test split for KNN "
   ]
  },
  {
   "cell_type": "code",
   "execution_count": 3,
   "metadata": {},
   "outputs": [],
   "source": [
    "# import libraries relevant for KNN model development \n",
    "import sklearn\n",
    "from sklearn.preprocessing import StandardScaler\n",
    "from sklearn.experimental import enable_iterative_imputer  \n",
    "from sklearn.impute import IterativeImputer\n",
    "from sklearn.neighbors import KNeighborsClassifier\n",
    "from sklearn.tree import DecisionTreeClassifier\n",
    "from sklearn.model_selection import train_test_split\n",
    "from sklearn.metrics import confusion_matrix, classification_report, accuracy_score\n",
    "from sklearn.metrics import roc_curve, auc"
   ]
  },
  {
   "cell_type": "code",
   "execution_count": 32,
   "metadata": {},
   "outputs": [],
   "source": [
    "# Set the features used for prediction (x) and the class that you want to predict (y) \n",
    "x = df[['HEIGHT', 'WEIGHT', 'SMOKER',\n",
    "        'ALCOHOL', 'PRIMARY_SURGERY',\n",
    "       'NEOADJUVANT_CHEMO', 'AGE', 'BINARY_SEX', 'FRACTIONS', 'MAX_DOSE', \n",
    "       'DYS_AUC', 'XERO_AUC', 'MUCO_AUC',\n",
    "       'STAT_SCORE', 'CATEGORICAL_SITE', 'TNM_STAGE',\n",
    "       'DRY_MOUTH_BASELINE', 'DYSPHAGIA_BASELINE', 'ORAL_MUCOSITIS_BASELINE']]\n",
    "\n",
    "y = df[['LOCAL_RECURRENCE']]\n",
    "y=list(y['LOCAL_RECURRENCE'])"
   ]
  },
  {
   "cell_type": "markdown",
   "metadata": {},
   "source": [
    "## Use imputation to replace missing values in the dataset "
   ]
  },
  {
   "cell_type": "markdown",
   "metadata": {},
   "source": [
    "imputer = IterativeImputer(max_iter=100)\n",
    "imputer.fit(x)\n",
    "x_transform = imputer.transform(x)\n",
    "print('Missing: %d' % sum(np.isnan(x_transform).flatten()))\n",
    "imputed_x = pd.DataFrame(x_transform, columns=list(x.columns))\n",
    "#imputed_x.to_csv('ImputedVoxToxData.csv')"
   ]
  },
  {
   "cell_type": "markdown",
   "metadata": {},
   "source": [
    "## Train and Test KNN Model \n",
    "Functions for train and test, metric evaluation and hyperparameter optimisation "
   ]
  },
  {
   "cell_type": "code",
   "execution_count": 51,
   "metadata": {},
   "outputs": [],
   "source": [
    "def KNN_classifier(imputed_x, y, k_neighbors):\n",
    "    predictions = {}\n",
    "    error = []\n",
    "    scaler = StandardScaler()\n",
    "\n",
    "    for i in range(1,6): \n",
    "        x_train, x_test, y_train, y_test = train_test_split(imputed_x, y, test_size = 0.3)\n",
    "        scaler.fit(x_train)\n",
    "        x_train = scaler.transform(x_train)\n",
    "        x_test = scaler.transform(x_test)\n",
    "        knn = KNeighborsClassifier(n_neighbors=k_neighbors)\n",
    "        knn.fit(x_train, y_train)\n",
    "        y_pred = knn.predict(x_test)\n",
    "        error.append(np.mean(y_pred != y_test))\n",
    "        predictions[i] = [y_test, y_pred]\n",
    "        \n",
    "    return predictions, error\n",
    "\n",
    "\n",
    "def KNN_metrics(predictions):\n",
    "    accuracy = []\n",
    "    brier_score = []\n",
    "    precision = []\n",
    "    f1_score = []\n",
    "    roc_auc = []\n",
    "    \n",
    "    \n",
    "    for key in predictions.keys(): \n",
    "        con_matrix = confusion_matrix(predictions[key][0], predictions[key][1])\n",
    "        class_report = classification_report(predictions[key][0], predictions[key][1])\n",
    "        print(con_matrix, class_report)\n",
    "        print(sklearn.metrics.accuracy_score(predictions[key][0], predictions[key][1]))\n",
    "        print(sklearn.metrics.brier_score_loss(predictions[key][0], predictions[key][1]))\n",
    "        \n",
    "        accuracy.append(sklearn.metrics.accuracy_score(predictions[key][0], predictions[key][1]))\n",
    "        brier_score.append(sklearn.metrics.brier_score_loss(predictions[key][0], predictions[key][1]))\n",
    "        precision.append(sklearn.metrics.precision_score(predictions[key][0], predictions[key][1]))\n",
    "        f1_score.append(sklearn.metrics.f1_score(predictions[key][0], predictions[key][1]))\n",
    "        false_positive_rate, true_positive_rate, thresholds = roc_curve(predictions[key][0], predictions[key][1])\n",
    "        auc_value = auc(false_positive_rate, true_positive_rate)\n",
    "        roc_auc.append(auc_value)\n",
    "\n",
    "    \n",
    "    return accuracy, brier_score, precision, f1_score, roc_auc\n",
    "\n",
    "\n",
    "def tune_parameters(imputed_x, y):\n",
    "    errors = {}\n",
    "    accuracies ={}\n",
    "    scaler = StandardScaler()\n",
    "    \n",
    "    #for i in range(1,11):\n",
    "    error = []\n",
    "    accuracy = []\n",
    "    for i in range(1,11): \n",
    "        x_train, x_test, y_train, y_test = train_test_split(imputed_x, y, test_size = 0.3)\n",
    "        scaler.fit(x_train)\n",
    "        x_train = scaler.transform(x_train)\n",
    "        x_test = scaler.transform(x_test)\n",
    "        knn = KNeighborsClassifier(n_neighbors=i)\n",
    "        knn.fit(x_train, y_train)\n",
    "        y_pred = knn.predict(x_test)\n",
    "        error.append(np.mean(y_pred != y_test))\n",
    "        accuracy.append(sklearn.metrics.accuracy_score(y_test, y_pred))\n",
    "        \n",
    "        errors[i] = np.mean(y_pred != y_test)\n",
    "        accuracies[i] = sklearn.metrics.accuracy_score(y_test, y_pred)\n",
    "        \n",
    "    return accuracies, errors   "
   ]
  },
  {
   "cell_type": "code",
   "execution_count": 45,
   "metadata": {},
   "outputs": [],
   "source": [
    "# Tune hyperparameter (number of nearest neighbours)\n",
    "accuracies, errors = tune_parameters(imputed_x, y)\n",
    "print(np.max(list(accuracies.values())), np.min(list(errors.values())))\n",
    "print(accuracies)"
   ]
  },
  {
   "cell_type": "code",
   "execution_count": 47,
   "metadata": {},
   "outputs": [
    {
     "data": {
      "text/plain": [
       "Text(0, 0.5, 'Mean Error')"
      ]
     },
     "execution_count": 47,
     "metadata": {},
     "output_type": "execute_result"
    },
    {
     "data": {
      "image/png": "[encoded data removed]",
      "text/plain": [
       "<Figure size 864x432 with 1 Axes>"
      ]
     },
     "metadata": {
      "needs_background": "light"
     },
     "output_type": "display_data"
    }
   ],
   "source": [
    "# Plot the mean error for each KNN model against the number of neighbours \n",
    "plt.figure(figsize=(12, 6))\n",
    "plt.plot(range(1, 11), list(errors.values()), color='red', linestyle='dashed', marker='o',\n",
    "         markerfacecolor='blue', markersize=10)\n",
    "plt.plot(range(1, 11), list(accuracies.values()), color='red', linestyle='dashed', marker='o',\n",
    "         markerfacecolor='blue', markersize=10)\n",
    "plt.title('Error Rate K Value')\n",
    "plt.xlabel('K Value')\n",
    "plt.ylabel('Mean Error')"
   ]
  },
  {
   "cell_type": "code",
   "execution_count": 52,
   "metadata": {
    "scrolled": false
   },
   "outputs": [
    {
     "name": "stdout",
     "output_type": "stream",
     "text": [
      "[[63  0]\n",
      " [ 6  0]]               precision    recall  f1-score   support\n",
      "\n",
      "         0.0       0.91      1.00      0.95        63\n",
      "         1.0       0.00      0.00      0.00         6\n",
      "\n",
      "    accuracy                           0.91        69\n",
      "   macro avg       0.46      0.50      0.48        69\n",
      "weighted avg       0.83      0.91      0.87        69\n",
      "\n",
      "0.9130434782608695\n",
      "0.08695652173913043\n",
      "[[64  0]\n",
      " [ 5  0]]               precision    recall  f1-score   support\n",
      "\n",
      "         0.0       0.93      1.00      0.96        64\n",
      "         1.0       0.00      0.00      0.00         5\n",
      "\n",
      "    accuracy                           0.93        69\n",
      "   macro avg       0.46      0.50      0.48        69\n",
      "weighted avg       0.86      0.93      0.89        69\n",
      "\n",
      "0.927536231884058\n",
      "0.07246376811594203\n",
      "[[64  1]\n",
      " [ 4  0]]               precision    recall  f1-score   support\n",
      "\n",
      "         0.0       0.94      0.98      0.96        65\n",
      "         1.0       0.00      0.00      0.00         4\n",
      "\n",
      "    accuracy                           0.93        69\n",
      "   macro avg       0.47      0.49      0.48        69\n",
      "weighted avg       0.89      0.93      0.91        69\n",
      "\n",
      "0.927536231884058\n",
      "0.07246376811594203\n",
      "[[65  0]\n",
      " [ 4  0]]               precision    recall  f1-score   support\n",
      "\n",
      "         0.0       0.94      1.00      0.97        65\n",
      "         1.0       0.00      0.00      0.00         4\n",
      "\n",
      "    accuracy                           0.94        69\n",
      "   macro avg       0.47      0.50      0.49        69\n",
      "weighted avg       0.89      0.94      0.91        69\n",
      "\n",
      "0.9420289855072463\n",
      "0.057971014492753624\n",
      "[[67  0]\n",
      " [ 2  0]]               precision    recall  f1-score   support\n",
      "\n",
      "         0.0       0.97      1.00      0.99        67\n",
      "         1.0       0.00      0.00      0.00         2\n",
      "\n",
      "    accuracy                           0.97        69\n",
      "   macro avg       0.49      0.50      0.49        69\n",
      "weighted avg       0.94      0.97      0.96        69\n",
      "\n",
      "0.9710144927536232\n",
      "0.028985507246376812\n"
     ]
    },
    {
     "name": "stderr",
     "output_type": "stream",
     "text": [
      "/Users/ceilidhwelsh/opt/anaconda3/envs/voxtox/lib/python3.8/site-packages/sklearn/metrics/_classification.py:1245: UndefinedMetricWarning: Precision and F-score are ill-defined and being set to 0.0 in labels with no predicted samples. Use `zero_division` parameter to control this behavior.\n",
      "  _warn_prf(average, modifier, msg_start, len(result))\n",
      "/Users/ceilidhwelsh/opt/anaconda3/envs/voxtox/lib/python3.8/site-packages/sklearn/metrics/_classification.py:1245: UndefinedMetricWarning: Precision and F-score are ill-defined and being set to 0.0 in labels with no predicted samples. Use `zero_division` parameter to control this behavior.\n",
      "  _warn_prf(average, modifier, msg_start, len(result))\n",
      "/Users/ceilidhwelsh/opt/anaconda3/envs/voxtox/lib/python3.8/site-packages/sklearn/metrics/_classification.py:1245: UndefinedMetricWarning: Precision and F-score are ill-defined and being set to 0.0 in labels with no predicted samples. Use `zero_division` parameter to control this behavior.\n",
      "  _warn_prf(average, modifier, msg_start, len(result))\n",
      "/Users/ceilidhwelsh/opt/anaconda3/envs/voxtox/lib/python3.8/site-packages/sklearn/metrics/_classification.py:1245: UndefinedMetricWarning: Precision is ill-defined and being set to 0.0 due to no predicted samples. Use `zero_division` parameter to control this behavior.\n",
      "  _warn_prf(average, modifier, msg_start, len(result))\n",
      "/Users/ceilidhwelsh/opt/anaconda3/envs/voxtox/lib/python3.8/site-packages/sklearn/metrics/_classification.py:1245: UndefinedMetricWarning: Precision and F-score are ill-defined and being set to 0.0 in labels with no predicted samples. Use `zero_division` parameter to control this behavior.\n",
      "  _warn_prf(average, modifier, msg_start, len(result))\n",
      "/Users/ceilidhwelsh/opt/anaconda3/envs/voxtox/lib/python3.8/site-packages/sklearn/metrics/_classification.py:1245: UndefinedMetricWarning: Precision and F-score are ill-defined and being set to 0.0 in labels with no predicted samples. Use `zero_division` parameter to control this behavior.\n",
      "  _warn_prf(average, modifier, msg_start, len(result))\n",
      "/Users/ceilidhwelsh/opt/anaconda3/envs/voxtox/lib/python3.8/site-packages/sklearn/metrics/_classification.py:1245: UndefinedMetricWarning: Precision and F-score are ill-defined and being set to 0.0 in labels with no predicted samples. Use `zero_division` parameter to control this behavior.\n",
      "  _warn_prf(average, modifier, msg_start, len(result))\n",
      "/Users/ceilidhwelsh/opt/anaconda3/envs/voxtox/lib/python3.8/site-packages/sklearn/metrics/_classification.py:1245: UndefinedMetricWarning: Precision is ill-defined and being set to 0.0 due to no predicted samples. Use `zero_division` parameter to control this behavior.\n",
      "  _warn_prf(average, modifier, msg_start, len(result))\n",
      "/Users/ceilidhwelsh/opt/anaconda3/envs/voxtox/lib/python3.8/site-packages/sklearn/metrics/_classification.py:1245: UndefinedMetricWarning: Precision and F-score are ill-defined and being set to 0.0 in labels with no predicted samples. Use `zero_division` parameter to control this behavior.\n",
      "  _warn_prf(average, modifier, msg_start, len(result))\n",
      "/Users/ceilidhwelsh/opt/anaconda3/envs/voxtox/lib/python3.8/site-packages/sklearn/metrics/_classification.py:1245: UndefinedMetricWarning: Precision and F-score are ill-defined and being set to 0.0 in labels with no predicted samples. Use `zero_division` parameter to control this behavior.\n",
      "  _warn_prf(average, modifier, msg_start, len(result))\n",
      "/Users/ceilidhwelsh/opt/anaconda3/envs/voxtox/lib/python3.8/site-packages/sklearn/metrics/_classification.py:1245: UndefinedMetricWarning: Precision and F-score are ill-defined and being set to 0.0 in labels with no predicted samples. Use `zero_division` parameter to control this behavior.\n",
      "  _warn_prf(average, modifier, msg_start, len(result))\n",
      "/Users/ceilidhwelsh/opt/anaconda3/envs/voxtox/lib/python3.8/site-packages/sklearn/metrics/_classification.py:1245: UndefinedMetricWarning: Precision is ill-defined and being set to 0.0 due to no predicted samples. Use `zero_division` parameter to control this behavior.\n",
      "  _warn_prf(average, modifier, msg_start, len(result))\n",
      "/Users/ceilidhwelsh/opt/anaconda3/envs/voxtox/lib/python3.8/site-packages/sklearn/metrics/_classification.py:1245: UndefinedMetricWarning: Precision and F-score are ill-defined and being set to 0.0 in labels with no predicted samples. Use `zero_division` parameter to control this behavior.\n",
      "  _warn_prf(average, modifier, msg_start, len(result))\n",
      "/Users/ceilidhwelsh/opt/anaconda3/envs/voxtox/lib/python3.8/site-packages/sklearn/metrics/_classification.py:1245: UndefinedMetricWarning: Precision and F-score are ill-defined and being set to 0.0 in labels with no predicted samples. Use `zero_division` parameter to control this behavior.\n",
      "  _warn_prf(average, modifier, msg_start, len(result))\n",
      "/Users/ceilidhwelsh/opt/anaconda3/envs/voxtox/lib/python3.8/site-packages/sklearn/metrics/_classification.py:1245: UndefinedMetricWarning: Precision and F-score are ill-defined and being set to 0.0 in labels with no predicted samples. Use `zero_division` parameter to control this behavior.\n",
      "  _warn_prf(average, modifier, msg_start, len(result))\n",
      "/Users/ceilidhwelsh/opt/anaconda3/envs/voxtox/lib/python3.8/site-packages/sklearn/metrics/_classification.py:1245: UndefinedMetricWarning: Precision is ill-defined and being set to 0.0 due to no predicted samples. Use `zero_division` parameter to control this behavior.\n",
      "  _warn_prf(average, modifier, msg_start, len(result))\n"
     ]
    }
   ],
   "source": [
    "# print metrics for each iterations of KNN model \n",
    "predictions, error = KNN_classifier(imputed_x, y, 3)\n",
    "accuracy, brier_score, precision, f1_score, auc = KNN_metrics(predictions)"
   ]
  },
  {
   "cell_type": "code",
   "execution_count": 54,
   "metadata": {},
   "outputs": [
    {
     "name": "stdout",
     "output_type": "stream",
     "text": [
      "0.9362318840579709 0.06376811594202898 0.0 0.49846153846153846\n"
     ]
    }
   ],
   "source": [
    "# Print the final metrics for KNN model \n",
    "print(np.mean(accuracy), np.mean(brier_score), np.mean(precision), np.mean(auc))"
   ]
  },
  {
   "cell_type": "markdown",
   "metadata": {},
   "source": [
    "---"
   ]
  },
  {
   "cell_type": "markdown",
   "metadata": {},
   "source": [
    "## Visualising the Data using BoxPlots"
   ]
  },
  {
   "cell_type": "code",
   "execution_count": null,
   "metadata": {},
   "outputs": [],
   "source": [
    "x = df[['STAT_SCORE', 'DYS_AUC', 'XERO_AUC', 'MUCO_AUC']]\n",
    "y = df[['LOCAL_RECURRENCE']]\n",
    "investigate = pd.concat([x,y], axis=1)"
   ]
  },
  {
   "cell_type": "code",
   "execution_count": 217,
   "metadata": {},
   "outputs": [],
   "source": [
    "recurrence_df = investigate[investigate['LOCAL_RECURRENCE']==1.0].copy()\n",
    "recurrence_df = recurrence_df.assign(Recurrence='Yes')"
   ]
  },
  {
   "cell_type": "code",
   "execution_count": 218,
   "metadata": {},
   "outputs": [
    {
     "data": {
      "text/plain": [
       "<AxesSubplot:>"
      ]
     },
     "execution_count": 218,
     "metadata": {},
     "output_type": "execute_result"
    },
    {
     "data": {
      "image/png": "[encoded data removed]",
      "text/plain": [
       "<Figure size 432x288 with 1 Axes>"
      ]
     },
     "metadata": {
      "needs_background": "light"
     },
     "output_type": "display_data"
    }
   ],
   "source": [
    "no_recurrence_df = investigate[investigate['LOCAL_RECURRENCE']!=1.0].copy()\n",
    "no_recurrence_df = no_recurrence_df.assign(Recurrence='No')\n",
    "no_recurrence_df.boxplot(column=['DYS_AUC', 'XERO_AUC', 'MUCO_AUC'])"
   ]
  },
  {
   "cell_type": "code",
   "execution_count": 198,
   "metadata": {},
   "outputs": [
    {
     "data": {
      "text/plain": [
       "<AxesSubplot:>"
      ]
     },
     "execution_count": 198,
     "metadata": {},
     "output_type": "execute_result"
    },
    {
     "data": {
      "image/png": "[encoded data removed]",
      "text/plain": [
       "<Figure size 432x288 with 1 Axes>"
      ]
     },
     "metadata": {
      "needs_background": "light"
     },
     "output_type": "display_data"
    }
   ],
   "source": [
    "recurrence_df.boxplot(column=['DYS_AUC', 'XERO_AUC', 'MUCO_AUC'])"
   ]
  },
  {
   "cell_type": "code",
   "execution_count": 219,
   "metadata": {},
   "outputs": [
    {
     "name": "stdout",
     "output_type": "stream",
     "text": [
      "  Recurrence    Endpoint     value\n",
      "0        Yes  STAT_SCORE  0.003517\n",
      "1        Yes  STAT_SCORE -0.682167\n",
      "2        Yes  STAT_SCORE -1.422711\n",
      "3        Yes  STAT_SCORE -0.761987\n",
      "4        Yes  STAT_SCORE  0.003517\n"
     ]
    }
   ],
   "source": [
    "cdf = pd.concat([recurrence_df, no_recurrence_df])    \n",
    "mdf = pd.melt(cdf, id_vars=['Recurrence'], var_name=['Endpoint'])\n",
    "print(mdf.head())"
   ]
  },
  {
   "cell_type": "code",
   "execution_count": 229,
   "metadata": {},
   "outputs": [
    {
     "data": {
      "image/png": "[encoded data removed]",
      "text/plain": [
       "<Figure size 1008x720 with 1 Axes>"
      ]
     },
     "metadata": {
      "needs_background": "light"
     },
     "output_type": "display_data"
    }
   ],
   "source": [
    "plt.figure(figsize=(14,10))\n",
    "ax = sns.boxplot(x=\"Recurrence\", y=\"value\", hue=\"Endpoint\", data=mdf)    \n",
    "plt.show()"
   ]
  },
  {
   "cell_type": "code",
   "execution_count": 241,
   "metadata": {},
   "outputs": [],
   "source": [
    "x = df[['DRY_MOUTH_BASELINE', 'DYSPHAGIA_BASELINE', 'ORAL_MUCOSITIS_BASELINE']]\n",
    "y = df[['LOCAL_RECURRENCE']]\n",
    "investigate2 = pd.concat([x,y], axis=1)\n",
    "recurrence_df = investigate2[investigate2['LOCAL_RECURRENCE']==1.0].copy()\n",
    "recurrence_df = recurrence_df.assign(Recurrence='Yes')\n",
    "no_recurrence_df = investigate2[investigate2['LOCAL_RECURRENCE']!=1.0].copy()\n",
    "no_recurrence_df = no_recurrence_df.assign(Recurrence='No')"
   ]
  },
  {
   "cell_type": "code",
   "execution_count": 242,
   "metadata": {},
   "outputs": [
    {
     "name": "stdout",
     "output_type": "stream",
     "text": [
      "  Recurrence            Endpoint  value\n",
      "0        Yes  DRY_MOUTH_BASELINE    0.0\n",
      "1        Yes  DRY_MOUTH_BASELINE    2.0\n",
      "2        Yes  DRY_MOUTH_BASELINE    1.0\n",
      "3        Yes  DRY_MOUTH_BASELINE    1.0\n",
      "4        Yes  DRY_MOUTH_BASELINE    0.0\n"
     ]
    }
   ],
   "source": [
    "cdf = pd.concat([recurrence_df, no_recurrence_df])    \n",
    "mdf = pd.melt(cdf, id_vars=['Recurrence'], var_name=['Endpoint'])\n",
    "print(mdf.head())"
   ]
  },
  {
   "cell_type": "code",
   "execution_count": 243,
   "metadata": {},
   "outputs": [
    {
     "data": {
      "image/png": "[encoded data removed]",
      "text/plain": [
       "<Figure size 1008x720 with 1 Axes>"
      ]
     },
     "metadata": {
      "needs_background": "light"
     },
     "output_type": "display_data"
    }
   ],
   "source": [
    "plt.figure(figsize=(14,10))\n",
    "ax = sns.boxplot(x=\"Recurrence\", y=\"value\", hue=\"Endpoint\", data=mdf)    \n",
    "plt.show()"
   ]
  },
  {
   "cell_type": "code",
   "execution_count": 244,
   "metadata": {},
   "outputs": [],
   "source": [
    "x = df[['DYS_PEAK', 'XERO_PEAK', 'MUCO_PEAK']]\n",
    "y = df[['LOCAL_RECURRENCE']]\n",
    "investigate3 = pd.concat([x,y], axis=1)\n",
    "recurrence_df = investigate3[investigate3['LOCAL_RECURRENCE']==1.0].copy()\n",
    "recurrence_df = recurrence_df.assign(Recurrence='Yes')\n",
    "no_recurrence_df = investigate3[investigate3['LOCAL_RECURRENCE']!=1.0].copy()\n",
    "no_recurrence_df = no_recurrence_df.assign(Recurrence='No')"
   ]
  },
  {
   "cell_type": "code",
   "execution_count": 245,
   "metadata": {},
   "outputs": [
    {
     "name": "stdout",
     "output_type": "stream",
     "text": [
      "  Recurrence  Endpoint  value\n",
      "0        Yes  DYS_PEAK    2.0\n",
      "1        Yes  DYS_PEAK    2.0\n",
      "2        Yes  DYS_PEAK   -1.0\n",
      "3        Yes  DYS_PEAK    1.0\n",
      "4        Yes  DYS_PEAK    2.0\n"
     ]
    },
    {
     "data": {
      "image/png": "[encoded data removed]",
      "text/plain": [
       "<Figure size 1008x720 with 1 Axes>"
      ]
     },
     "metadata": {
      "needs_background": "light"
     },
     "output_type": "display_data"
    }
   ],
   "source": [
    "cdf = pd.concat([recurrence_df, no_recurrence_df])    \n",
    "mdf = pd.melt(cdf, id_vars=['Recurrence'], var_name=['Endpoint'])\n",
    "print(mdf.head())\n",
    "plt.figure(figsize=(14,10))\n",
    "ax = sns.boxplot(x=\"Recurrence\", y=\"value\", hue=\"Endpoint\", data=mdf)    \n",
    "plt.show()"
   ]
  },
  {
   "cell_type": "code",
   "execution_count": 263,
   "metadata": {},
   "outputs": [],
   "source": [
    "x = df[['MAX_DOSE','BED']]\n",
    "y = df[['LOCAL_RECURRENCE']]\n",
    "investigate3 = pd.concat([x,y], axis=1)\n",
    "recurrence_df = investigate3[investigate3['LOCAL_RECURRENCE']==1.0].copy()\n",
    "recurrence_df = recurrence_df.assign(Recurrence='Yes')\n",
    "no_recurrence_df = investigate3[investigate3['LOCAL_RECURRENCE']!=1.0].copy()\n",
    "no_recurrence_df = no_recurrence_df.assign(Recurrence='No')"
   ]
  },
  {
   "cell_type": "code",
   "execution_count": 264,
   "metadata": {},
   "outputs": [
    {
     "name": "stdout",
     "output_type": "stream",
     "text": [
      "  Recurrence  Endpoint  value\n",
      "0        Yes  MAX_DOSE   60.0\n",
      "1        Yes  MAX_DOSE   65.0\n",
      "2        Yes  MAX_DOSE   65.0\n",
      "3        Yes  MAX_DOSE   65.0\n",
      "4        Yes  MAX_DOSE   60.0\n"
     ]
    },
    {
     "data": {
      "image/png": "[encoded data removed]",
      "text/plain": [
       "<Figure size 1008x720 with 1 Axes>"
      ]
     },
     "metadata": {
      "needs_background": "light"
     },
     "output_type": "display_data"
    }
   ],
   "source": [
    "cdf = pd.concat([recurrence_df, no_recurrence_df])    \n",
    "mdf = pd.melt(cdf, id_vars=['Recurrence'], var_name=['Endpoint'])\n",
    "print(mdf.head())\n",
    "plt.figure(figsize=(14,10))\n",
    "ax = sns.boxplot(x=\"Recurrence\", y=\"value\", hue=\"Endpoint\", data=mdf)    \n",
    "plt.show()"
   ]
  },
  {
   "cell_type": "code",
   "execution_count": 96,
   "metadata": {},
   "outputs": [
    {
     "data": {
      "text/plain": [
       "<AxesSubplot:xlabel='BED', ylabel='Count'>"
      ]
     },
     "execution_count": 96,
     "metadata": {},
     "output_type": "execute_result"
    },
    {
     "data": {
      "image/png": "[encoded data removed]",
      "text/plain": [
       "<Figure size 432x288 with 1 Axes>"
      ]
     },
     "metadata": {
      "needs_background": "light"
     },
     "output_type": "display_data"
    }
   ],
   "source": [
    "sns.histplot(df['BED'])"
   ]
  },
  {
   "cell_type": "code",
   "execution_count": 265,
   "metadata": {},
   "outputs": [
    {
     "data": {
      "text/html": [
       "<div>\n",
       "<style scoped>\n",
       "    .dataframe tbody tr th:only-of-type {\n",
       "        vertical-align: middle;\n",
       "    }\n",
       "\n",
       "    .dataframe tbody tr th {\n",
       "        vertical-align: top;\n",
       "    }\n",
       "\n",
       "    .dataframe thead th {\n",
       "        text-align: right;\n",
       "    }\n",
       "</style>\n",
       "<table border=\"1\" class=\"dataframe\">\n",
       "  <thead>\n",
       "    <tr style=\"text-align: right;\">\n",
       "      <th></th>\n",
       "      <th>MAX_DOSE</th>\n",
       "      <th>BED</th>\n",
       "      <th>LOCAL_RECURRENCE</th>\n",
       "      <th>Recurrence</th>\n",
       "    </tr>\n",
       "  </thead>\n",
       "  <tbody>\n",
       "    <tr>\n",
       "      <th>13</th>\n",
       "      <td>60.0</td>\n",
       "      <td>NaN</td>\n",
       "      <td>1.0</td>\n",
       "      <td>Yes</td>\n",
       "    </tr>\n",
       "    <tr>\n",
       "      <th>57</th>\n",
       "      <td>65.0</td>\n",
       "      <td>79.083333</td>\n",
       "      <td>1.0</td>\n",
       "      <td>Yes</td>\n",
       "    </tr>\n",
       "    <tr>\n",
       "      <th>75</th>\n",
       "      <td>65.0</td>\n",
       "      <td>79.083333</td>\n",
       "      <td>1.0</td>\n",
       "      <td>Yes</td>\n",
       "    </tr>\n",
       "    <tr>\n",
       "      <th>77</th>\n",
       "      <td>65.0</td>\n",
       "      <td>79.083333</td>\n",
       "      <td>1.0</td>\n",
       "      <td>Yes</td>\n",
       "    </tr>\n",
       "    <tr>\n",
       "      <th>97</th>\n",
       "      <td>60.0</td>\n",
       "      <td>72.000000</td>\n",
       "      <td>1.0</td>\n",
       "      <td>Yes</td>\n",
       "    </tr>\n",
       "    <tr>\n",
       "      <th>...</th>\n",
       "      <td>...</td>\n",
       "      <td>...</td>\n",
       "      <td>...</td>\n",
       "      <td>...</td>\n",
       "    </tr>\n",
       "    <tr>\n",
       "      <th>147</th>\n",
       "      <td>60.0</td>\n",
       "      <td>72.000000</td>\n",
       "      <td>1.0</td>\n",
       "      <td>Yes</td>\n",
       "    </tr>\n",
       "    <tr>\n",
       "      <th>151</th>\n",
       "      <td>65.0</td>\n",
       "      <td>79.083333</td>\n",
       "      <td>1.0</td>\n",
       "      <td>Yes</td>\n",
       "    </tr>\n",
       "    <tr>\n",
       "      <th>169</th>\n",
       "      <td>65.0</td>\n",
       "      <td>79.083333</td>\n",
       "      <td>1.0</td>\n",
       "      <td>Yes</td>\n",
       "    </tr>\n",
       "    <tr>\n",
       "      <th>184</th>\n",
       "      <td>65.0</td>\n",
       "      <td>79.083333</td>\n",
       "      <td>1.0</td>\n",
       "      <td>Yes</td>\n",
       "    </tr>\n",
       "    <tr>\n",
       "      <th>226</th>\n",
       "      <td>65.0</td>\n",
       "      <td>79.083333</td>\n",
       "      <td>1.0</td>\n",
       "      <td>Yes</td>\n",
       "    </tr>\n",
       "  </tbody>\n",
       "</table>\n",
       "<p>15 rows × 4 columns</p>\n",
       "</div>"
      ],
      "text/plain": [
       "     MAX_DOSE        BED  LOCAL_RECURRENCE Recurrence\n",
       "13       60.0        NaN               1.0        Yes\n",
       "57       65.0  79.083333               1.0        Yes\n",
       "75       65.0  79.083333               1.0        Yes\n",
       "77       65.0  79.083333               1.0        Yes\n",
       "97       60.0  72.000000               1.0        Yes\n",
       "..        ...        ...               ...        ...\n",
       "147      60.0  72.000000               1.0        Yes\n",
       "151      65.0  79.083333               1.0        Yes\n",
       "169      65.0  79.083333               1.0        Yes\n",
       "184      65.0  79.083333               1.0        Yes\n",
       "226      65.0  79.083333               1.0        Yes\n",
       "\n",
       "[15 rows x 4 columns]"
      ]
     },
     "execution_count": 265,
     "metadata": {},
     "output_type": "execute_result"
    }
   ],
   "source": [
    "recurrence_df"
   ]
  },
  {
   "cell_type": "code",
   "execution_count": null,
   "metadata": {},
   "outputs": [],
   "source": []
  }
 ],
 "metadata": {
  "kernelspec": {
   "display_name": "Python 3",
   "language": "python",
   "name": "python3"
  },
  "language_info": {
   "codemirror_mode": {
    "name": "ipython",
    "version": 3
   },
   "file_extension": ".py",
   "mimetype": "text/x-python",
   "name": "python",
   "nbconvert_exporter": "python",
   "pygments_lexer": "ipython3",
   "version": "3.8.5"
  }
 },
 "nbformat": 4,
 "nbformat_minor": 4
}
